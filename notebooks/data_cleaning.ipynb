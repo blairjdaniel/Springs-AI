{
 "cells": [
  {
   "cell_type": "code",
   "execution_count": 2,
   "metadata": {},
   "outputs": [],
   "source": [
    "import sys\n",
    "sys.path.insert(0, \"../src\")  # Ensure your local src folder is first in the search path\n",
    "from my_llm.my_utils import clean_text_for_bert\n",
    "from my_llm.my_utils import convert_insta_txt_to_jsonl\n",
    "from my_llm.my_utils import remove_empty_body_entries\n",
    "from my_llm.my_utils import add_form_field\n",
    "from my_llm.my_utils import add_company_voice\n",
    "from my_llm.my_utils import load_forms_config\n",
    "from my_llm.my_utils import enrich_email_with_contact_response\n",
    "from my_llm.my_utils import process_emails\n",
    "from my_llm.my_utils import load_socials_config\n",
    "from my_llm.my_utils import enrich_instagram_post\n",
    "from my_llm.my_utils import process_instagram_posts\n",
    "from my_llm.my_utils import enrich_website_content\n",
    "from my_llm.my_utils import process_website_posts\n",
    "from my_llm.my_utils import parse_brandbook\n",
    "from my_llm.my_utils import convert_brandbook_file\n",
    "from my_llm.my_utils import rework_emails_to_prompt_completion\n",
    "from my_llm.my_utils import convert_documents_clean_to_jsonl\n",
    "from my_llm.my_utils import load_all_jsonl_files\n",
    "from my_llm.my_utils import load_normalized_jsonl\n",
    "from my_llm.my_utils import reformat_prompt\n",
    "from my_llm.my_utils import clean_dataframe\n",
    "from my_llm.my_utils import filter_friendly_rows\n",
    "from my_llm.my_utils import filter_out_nan\n",
    "from my_llm.my_utils import save_df_to_jsonl\n",
    "from my_llm.my_utils import remove_curly_braces\n",
    "\n",
    "import pandas as pd \n",
    "import yaml\n",
    "import re\n",
    "import json"
   ]
  },
  {
   "cell_type": "code",
   "execution_count": 3,
   "metadata": {},
   "outputs": [
    {
     "name": "stdout",
     "output_type": "stream",
     "text": [
      "{'data': {'source': '/Users/blairjdaniel/AI-Assistant-Springs/data', 'cleaned_data_path': '/Users/blairjdaniel/AI-Assistant-Springs/data/outputs', 'split_ratio': 0.8}, 'preprocessing': {'remove_duplicates': True, 'text_cleaning': {'lower_case': False, 'remove_punctuation': False, 'remove_stopwords': False}}}\n"
     ]
    }
   ],
   "source": [
    "# Define the path to your YAML configuration file\n",
    "config_path = \"/Users/blairjdaniel/AI-Assistant-Springs/config/data_config.yaml\"\n",
    "\n",
    "# Load the YAML configuration\n",
    "with open(config_path, \"r\") as file:\n",
    "    config = yaml.safe_load(file)\n",
    "\n",
    "# Print the loaded configuration to verify its contents\n",
    "print(config)"
   ]
  },
  {
   "cell_type": "code",
   "execution_count": 4,
   "metadata": {},
   "outputs": [
    {
     "name": "stdout",
     "output_type": "stream",
     "text": [
      "{'forms': {'contact': {'subject': 'Thanks for reaching out to Springs RV Resort', 'body': '<html>\\n  <body>\\n    <p>Hi {first_name},</p>\\n    <p>Thanks so much for reaching out! My name is Kelsey, and I’m the Sales Assistant here at Springs RV Resort.</p>\\n    <p>I’d be happy to set you up with our Sales Manager, Jamie Smith, for a personal resort tour so you can get a feel for what makes the Springs so special. You’re welcome to reply with a day and time that works best for you, or you can use our online calendar to book directly: <a href=\"https://calendly.com/springs-rv-resort/springs-rv-resort-sales-meeting\">BOOK HERE</a> or call 778-871-3160.</p>\\n    <p>As you may know, our resort offers daily rentals, seasonal rentals, and RV lot ownership. If you’re exploring ownership, our brand-new Phase 3 lots range from $269,000 to over $300,000. We also have a selection of resale lots available; you can browse listings with photos and pricing <a href=\"https://springsrv.com/resale-lots-for-sale/\">here</a>. The monthly maintenance fee is $210.</p>\\n    <p>If you have any questions or would like to chat before your visit, I’m always here to help!</p>\\n    <p>Warmly,<br>\\n       Kelsey<br>\\n       Sales Assistant<br>\\n       <a href=\"mailto:sales@springsrv.com\">sales@springsrv.com</a>\\n    </p>\\n    <p><strong>Please note:</strong> Our Resort is recreational use only and does not allow full-time living.</p>\\n  </body>\\n</html>\\n'}, 'waitlist': {'subject': 'Re: Springs RV Resort Join the waitlist', 'body': '<html>\\n  <body>\\n    <p>Hello {first_name},</p>\\n    <p>Thank you for joining the waitlist at Springs RV Resort.</p>\\n    <p>We have received your details and will be in touch soon with more information.</p>\\n    <p>Best regards,<br>\\n       Kelsey,<br>\\n       Springs RV Resort<br>\\n       <a href=\"mailto:sales@springsrv.com\">sales@springsrv.com</a>\\n    </p>\\n    <p><strong>Please note:</strong> Our Resort is recreational use only and does not allow full-time living.</p>\\n  </body>\\n</html>\\n'}, 'pricelist': {'subject': 'Springs RV Resort Phase 3 Price List Map For You!', 'body': '<html>\\n  <body>\\n    <p>Hi {first_name},</p>\\n    <p>Thank you for your interest in the Springs RV Resort. My name is Kelsey, and I’m the Sales Assistant here.</p>\\n    <p>I’ve included our <a href=\"https://drive.google.com/file/d/1qYhagNPQEBBDbBXHJ7jBc0wMjS6sX45Y/view?usp=sharing\">Phase 3 Price List & Lot Map</a> so you can explore availability, financing options, and layout details. Our Phase 3 lots range from $269,000 to over $300,000. We also have lots for sale through our realtor; see prices and images <a href=\"https://springsrv.com/resale-lots-for-sale/\">here</a>. The monthly maintenance fee is $210.</p>\\n    <p>I’d be happy to set you up with our Sales Manager, Jamie Smith, for a personal tour so you can experience what makes the Springs special. Reply with a preferred time or use our online calendar: <a href=\"https://calendly.com/springs-rv-resort/springs-rv-resort-sales-meeting\">BOOK HERE</a> or call 778-871-3160.</p>\\n    <p>If you have any questions or would like to chat before your visit, I’m here to help!</p>\\n    <p>Warmly,<br>\\n       Kelsey<br>\\n       Sales Assistant<br>\\n       <a href=\"mailto:sales@springsrv.com\">sales@springsrv.com</a>\\n    </p>\\n    <p><strong>Please note:</strong> Our Resort is recreational use only and does not allow full-time living.</p>\\n  </body>\\n</html>\\n'}, 'inquiries': {'subject': 'Springs RV Resort Phase 3 Price List Map For You!', 'body': '<html>\\n  <body>\\n    <p>Hi {first_name},</p>\\n    <p>Thank you for your interest in the Springs RV Resort. My name is Kelsey, and I’m the Sales Assistant here.</p>\\n    <p>I’ve included our <a href=\"https://drive.google.com/file/d/1qYhagNPQEBBDbBXHJ7jBc0wMjS6sX45Y/view?usp=sharing\">Phase 3 Price List & Lot Map</a> so you can explore availability, financing options, and layout details. Our Phase 3 lots range from $269,000 to over $300,000. We also have lots for sale through our realtor; see prices and images <a href=\"https://springsrv.com/resale-lots-for-sale/\">here</a>. The monthly maintenance fee is $210.</p>\\n    <p>I’d be happy to set you up with our Sales Manager, Jamie Smith, for a personal tour so you can experience what makes the Springs special. Reply with a preferred time or use our online calendar: <a href=\"https://calendly.com/springs-rv-resort/springs-rv-resort-sales-meeting\">BOOK HERE</a> or call 778-871-3160.</p>\\n    <p>If you have any questions or would like to chat before your visit, I’m here to help!</p>\\n    <p>Warmly,<br>\\n       Kelsey<br>\\n       Sales Assistant<br>\\n       <a href=\"mailto:sales@springsrv.com\">sales@springsrv.com</a>\\n    </p>\\n    <p><strong>Please note:</strong> Our Resort is recreational use only and does not allow full-time living.</p>\\n  </body>\\n</html>\\n'}}, 'meta': {'version': '1.0', 'description': 'Baseline templates for generating email responses based on email types.'}}\n"
     ]
    }
   ],
   "source": [
    "# Define the path to your YAML configuration file\n",
    "config_path = \"/Users/blairjdaniel/AI-Assistant-Springs/config/baseline_template.yaml\"\n",
    "\n",
    "# Load the YAML configuration\n",
    "with open(config_path, \"r\") as file:\n",
    "    config = yaml.safe_load(file)\n",
    "\n",
    "# Print the loaded configuration to verify its contents\n",
    "print(config)"
   ]
  },
  {
   "cell_type": "code",
   "execution_count": 5,
   "metadata": {},
   "outputs": [
    {
     "name": "stdout",
     "output_type": "stream",
     "text": [
      "{'forms': {'contact': {'subject': 'Thanks for reaching out to Springs RV Resort', 'body': 'Hi {first_name},\\n\\nThanks so much for reaching out! My name is Kelsey, and I’m the Sales Assistant here at Springs RV Resort.\\n\\nI’d be happy to set you up with our Sales Manager, Jamie Smith, for a personal resort tour so you can get a feel for what makes the Springs so special. You’re welcome to reply with a day and time that works best for you, or you can book directly using our online calendar (BOOK HERE) or call 778-871-3160.\\n\\nAs you may know, our resort offers daily rentals, seasonal rentals, and RV lot ownership. If you’re exploring ownership, our brand-new Phase 3 lots range from $269,000 to over $300,000. We also have a selection of resale lots available; you can browse listings with photos and pricing (see details here).\\n\\nIf you have any questions or would like to chat before your visit, I’m always here to help!\\n\\nWarmly,\\nKelsey\\nSales Assistant\\nsales@springsrv.com\\n\\nPlease note: Our Resort is recreational use only and does not allow full-time living.\\n'}, 'waitlist': {'subject': 'Re: Springs RV Resort Join the waitlist', 'body': 'Hello {first_name},\\n\\nThank you for joining the waitlist at Springs RV Resort.\\n\\nWe have received your details and will be in touch soon with more information.\\n\\nBest regards,\\nKelsey\\nSprings RV Resort\\nsales@springsrv.com\\n\\nPlease note: Our Resort is recreational use only and does not allow full-time living.\\n'}, 'pricelist': {'subject': 'Springs RV Resort Phase 3 Price List Map For You!', 'body': 'Hi {first_name},\\n\\nThank you for your interest in the Springs RV Resort. My name is Kelsey, and I’m the Sales Assistant here.\\n\\nI’ve included our Phase 3 Price List & Lot Map so you can explore availability, financing options, and layout details. Our Phase 3 lots range from $269,000 to over $300,000. We also have lots for sale through our realtor—see prices and images via the provided link. The monthly maintenance fee is $210.\\n\\nI’d be happy to set you up with our Sales Manager, Jamie Smith, for a personal tour so you can experience what makes the Springs special. Please reply with a preferred time or book directly using our online calendar (BOOK HERE) or call 778-871-3160.\\n\\nIf you have any questions or would like to chat before your visit, I’m here to help!\\n\\nWarmly,\\nKelsey\\nSales Assistant\\nsales@springsrv.com\\n\\nPlease note: Our Resort is recreational use only and does not allow full-time living.\\n'}, 'inquiries': {'subject': 'Springs RV Resort Phase 3 Price List Map For You!', 'body': 'Hi {first_name},\\n\\nThank you for your interest in the Springs RV Resort. My name is Kelsey, and I’m the Sales Assistant here.\\n\\nI’ve included our Phase 3 Price List & Lot Map so you can explore availability, financing options, and layout details. Our Phase 3 lots range from $269,000 to over $300,000. We also have lots for sale through our realtor—see prices and images via the provided link. The monthly maintenance fee is $210.\\n\\nI’d be happy to set you up with our Sales Manager, Jamie Smith, for a personal tour so you can experience what makes the Springs special. Please reply with a preferred time or book directly using our online calendar (BOOK HERE) or call 778-871-3160.\\n\\nIf you have any questions or would like to chat before your visit, I’m here to help!\\n\\nWarmly,\\nKelsey\\nSales Assistant\\nsales@springsrv.com\\n\\nPlease note: Our Resort is recreational use only and does not allow full-time living.\\n'}}, 'meta': {'version': '1.0', 'description': 'Baseline templates for generating email responses based on email types.'}}\n"
     ]
    }
   ],
   "source": [
    "# Define the path to your YAML configuration file\n",
    "config_path = \"/Users/blairjdaniel/AI-Assistant-Springs/config/baseline_responses.yaml\"\n",
    "\n",
    "# Load the YAML configuration\n",
    "with open(config_path, \"r\") as file:\n",
    "    config = yaml.safe_load(file)\n",
    "\n",
    "# Print the loaded configuration to verify its contents\n",
    "print(config)"
   ]
  },
  {
   "cell_type": "code",
   "execution_count": 5,
   "metadata": {},
   "outputs": [],
   "source": [
    "# # Load text from a file\n",
    "# with open(\"/Users/blairjdaniel/AI-Assistant-Springs/data/cache/documents/brandbook.txt\", \"r\") as f:\n",
    "#     text = f.read()\n",
    "\n",
    "# # Retrieve cleaning settings from the YAML (inside data_config.yaml -> preprocessing -> text_cleaning)\n",
    "# cleaning_conf = config.get(\"preprocessing\", {}).get(\"text_cleaning\", {})\n",
    "\n",
    "# # Clean the text using your helper function\n",
    "# cleaned_text = clean_text_for_bert(text, cleaning_conf)\n",
    "\n",
    "# # Save cleaned text to a new file (plain text)\n",
    "# with open(\"/Users/blairjdaniel/AI-Assistant-Springs/data/outputs/brandbook_clean.txt\", \"w\") as f:\n",
    "#     f.write(cleaned_text)"
   ]
  },
  {
   "cell_type": "code",
   "execution_count": 6,
   "metadata": {},
   "outputs": [],
   "source": [
    "# import json\n",
    "\n",
    "# input_path = \"/Users/blairjdaniel/AI-Assistant-Springs/data/outputs/brandbook_clean.txt\"\n",
    "# output_path = \"/Users/blairjdaniel/AI-Assistant-Springs/data/outputs/brandbook.jsonl\"\n",
    "\n",
    "# with open(input_path, \"r\") as infile:\n",
    "#     text = infile.read()\n",
    "\n",
    "# parsed_entries = parse_brandbook(text)\n",
    "\n",
    "# with open(output_path, \"w\") as outfile:\n",
    "#     json.dump(parsed_entries, outfile, indent=4)\n",
    "\n",
    "# print(\"Parsed brand book saved to\", output_path)"
   ]
  },
  {
   "cell_type": "code",
   "execution_count": 7,
   "metadata": {},
   "outputs": [],
   "source": [
    "# input_path = \"/Users/blairjdaniel/AI-Assistant-Springs/data/outputs/brandbook.jsonl\"\n",
    "# output_path = \"/Users/blairjdaniel/AI-Assistant-Springs/data/outputs/brandbook_converted.jsonl\"\n",
    "# convert_brandbook_file(input_path, output_path, default_prompt=\"Brandbook entry:\")"
   ]
  },
  {
   "cell_type": "code",
   "execution_count": 8,
   "metadata": {},
   "outputs": [],
   "source": [
    "# # Load text from a file\n",
    "# with open(\"/Users/blairjdaniel/AI-Assistant-Springs/data/cache/documents/documents.txt\", \"r\") as f:\n",
    "#     text = f.read()\n",
    "\n",
    "# # Retrieve cleaning settings from the YAML (inside data_config.yaml -> preprocessing -> text_cleaning)\n",
    "# cleaning_conf = config.get(\"preprocessing\", {}).get(\"text_cleaning\", {})\n",
    "\n",
    "# # Clean the text using your helper function\n",
    "# cleaned_text = clean_text_for_bert(text, cleaning_conf)\n",
    "\n",
    "# # Save cleaned text to a new file (plain text)\n",
    "# with open(\"/Users/blairjdaniel/AI-Assistant-Springs/data/outputs/documents_clean.txt\", \"w\") as f:\n",
    "#     f.write(cleaned_text)"
   ]
  },
  {
   "cell_type": "code",
   "execution_count": 9,
   "metadata": {},
   "outputs": [],
   "source": [
    "# input_path = \"/Users/blairjdaniel/AI-Assistant-Springs/data/cache/insta/insta.txt\"\n",
    "# output_path = \"/Users/blairjdaniel/AI-Assistant-Springs/data/outputs/instagram.jsonl\"\n",
    "# convert_insta_txt_to_jsonl(input_path, output_path)"
   ]
  },
  {
   "cell_type": "code",
   "execution_count": 10,
   "metadata": {},
   "outputs": [],
   "source": [
    "# # Load text from a file\n",
    "# with open(\"/Users/blairjdaniel/AI-Assistant-Springs/data/cache/website/website.txt\", \"r\") as f:\n",
    "#     text = f.read()\n",
    "\n",
    "# # Retrieve cleaning settings from the YAML (inside data_config.yaml -> preprocessing -> text_cleaning)\n",
    "# cleaning_conf = config.get(\"preprocessing\", {}).get(\"text_cleaning\", {})\n",
    "\n",
    "# # Clean the text using your helper function\n",
    "# cleaned_text = clean_text_for_bert(text, cleaning_conf)\n",
    "\n",
    "# # Save cleaned text to a new file (plain text)\n",
    "# with open(\"/Users/blairjdaniel/AI-Assistant-Springs/data/outputs/website_clean.txt\", \"w\") as f:\n",
    "#     f.write(cleaned_text)"
   ]
  },
  {
   "cell_type": "code",
   "execution_count": 11,
   "metadata": {},
   "outputs": [],
   "source": [
    "# input_path = \"/Users/blairjdaniel/AI-Assistant-Springs/data/cache/website/website.txt\"\n",
    "# output_path = \"/Users/blairjdaniel/AI-Assistant-Springs/data/outputs/website.jsonl\"\n",
    "# convert_insta_txt_to_jsonl(input_path, output_path)"
   ]
  },
  {
   "cell_type": "code",
   "execution_count": 12,
   "metadata": {},
   "outputs": [],
   "source": [
    "# input_file = \"/Users/blairjdaniel/AI-Assistant-Springs/data/cache/json/email_catcher/emails_all.json\"\n",
    "# output_file = \"/Users/blairjdaniel/AI-Assistant-Springs/data/outputs/emails_all.json\"\n",
    "# remove_empty_body_entries(input_file, output_file)\n",
    "# print(f\"Filtered output written to {output_file}\")"
   ]
  },
  {
   "cell_type": "code",
   "execution_count": 13,
   "metadata": {},
   "outputs": [],
   "source": [
    "# input_file = \"/Users/blairjdaniel/AI-Assistant-Springs/data/cache/json/email_catcher/emails.json\"\n",
    "# output_file = \"/Users/blairjdaniel/AI-Assistant-Springs/data/outputs/emails_random.json\"\n",
    "# remove_empty_body_entries(input_file, output_file)\n",
    "# print(f\"Filtered output written to {output_file}\")"
   ]
  },
  {
   "cell_type": "code",
   "execution_count": 14,
   "metadata": {},
   "outputs": [],
   "source": [
    "#add_form_field(\"/Users/blairjdaniel/AI-Assistant-Springs/data/outputs/emails_random.json\", \"/Users/blairjdaniel/AI-Assistant-Springs/data/outputs/emails_random.json\", \"random\")"
   ]
  },
  {
   "cell_type": "code",
   "execution_count": 15,
   "metadata": {},
   "outputs": [],
   "source": [
    "# input_file = \"/Users/blairjdaniel/AI-Assistant-Springs/data/outputs/emails_phase3.json\"\n",
    "# output_file = \"/Users/blairjdaniel/AI-Assistant-Springs/data/pre-output/emails_phase3.jsonl\"\n",
    "# voice = \"Friendly, professional, and warm - reflecting Springs RV Resort's brand identity.\"\n",
    "# add_company_voice(input_file, output_file, voice)\n",
    "# print(f\"Updated file with company_voice metadata written to {output_file}\")"
   ]
  },
  {
   "cell_type": "code",
   "execution_count": 16,
   "metadata": {},
   "outputs": [],
   "source": [
    "# import json\n",
    "\n",
    "# input_file = \"/Users/blairjdaniel/AI-Assistant-Springs/data/pre-output/emails_phase3.jsonl\"  # if it's a JSON array\n",
    "# output_file = \"/Users/blairjdaniel/AI-Assistant-Springs/data/pre-output/emails_phase3.jsonl\"\n",
    "\n",
    "# import os\n",
    "\n",
    "# if not os.path.exists(input_file):\n",
    "#     raise FileNotFoundError(f\"The file {input_file} does not exist. Please check the file path.\")\n",
    "\n",
    "# with open(input_file, \"r\") as infile:\n",
    "#     data = json.load(infile)  # expects an array of objects\n",
    "\n",
    "# with open(output_file, \"w\") as outfile:\n",
    "#     for entry in data:\n",
    "#         json_line = json.dumps(entry)\n",
    "#         outfile.write(json_line + \"\\n\")"
   ]
  },
  {
   "cell_type": "code",
   "execution_count": 17,
   "metadata": {},
   "outputs": [],
   "source": [
    "# emails_jsonl = \"/Users/blairjdaniel/AI-Assistant-Springs/data/pre-output/emails_pricelist.jsonl\"\n",
    "# forms_yaml = \"/Users/blairjdaniel/AI-Assistant-Springs/config/baseline_template.yaml\"  # Your YAML file with baseline responses\n",
    "# output_jsonl = \"/Users/blairjdaniel/AI-Assistant-Springs/data/outputs/email_pricelist.jsonl\"\n",
    "# process_emails(emails_jsonl, forms_yaml, output_jsonl)\n",
    "# print(\"Enriched email data written to\", output_jsonl)"
   ]
  },
  {
   "cell_type": "code",
   "execution_count": 18,
   "metadata": {},
   "outputs": [],
   "source": [
    "# instagram_jsonl = \"/Users/blairjdaniel/AI-Assistant-Springs/data/pre-output/instagram.jsonl\"\n",
    "# socials_yaml = \"/Users/blairjdaniel/AI-Assistant-Springs/config/socials_response.yaml\"\n",
    "# output_jsonl = \"/Users/blairjdaniel/AI-Assistant-Springs/data/outputs/instagram_enriched.jsonl\"\n",
    "# process_instagram_posts(instagram_jsonl, socials_yaml, output_jsonl)\n",
    "# print(\"Enriched Instagram data written to\", output_jsonl)"
   ]
  },
  {
   "cell_type": "code",
   "execution_count": 19,
   "metadata": {},
   "outputs": [],
   "source": [
    "# instagram_jsonl = \"/Users/blairjdaniel/AI-Assistant-Springs/data/pre-output/website.jsonl\"\n",
    "# socials_yaml = \"/Users/blairjdaniel/AI-Assistant-Springs/config/socials_response.yaml\"\n",
    "# output_jsonl = \"/Users/blairjdaniel/AI-Assistant-Springs/data/outputs/website_enriched.jsonl\"\n",
    "# process_instagram_posts(instagram_jsonl, socials_yaml, output_jsonl)\n",
    "# print(\"Enriched Instagram data written to\", output_jsonl)"
   ]
  },
  {
   "cell_type": "code",
   "execution_count": 20,
   "metadata": {},
   "outputs": [],
   "source": [
    "# website_jsonl = \"/Users/blairjdaniel/AI-Assistant-Springs/data/pre-output/website.jsonl\"\n",
    "# socials_yaml = \"/Users/blairjdaniel/AI-Assistant-Springs/config/socials_response.yaml\"\n",
    "# output_jsonl = \"/Users/blairjdaniel/AI-Assistant-Springs/data/outputs/website_enriched.jsonl\"\n",
    "# process_website_posts(website_jsonl, socials_yaml, output_jsonl)\n",
    "# print(\"Enriched website data written to\", output_jsonl)"
   ]
  },
  {
   "cell_type": "code",
   "execution_count": null,
   "metadata": {},
   "outputs": [],
   "source": [
    "# input_path = \"/Users/blairjdaniel/AI-Assistant-Springs/data/google_colab/documents_final.jsonl\"\n",
    "# output_path = \"/Users/blairjdaniel/AI-Assistant-Springs/data/outputs/training_data.jsonl\"\n",
    "# with open(input_path, \"r\") as infile:\n",
    "#     conversations = json.load(infile)\n",
    "\n",
    "# with open(output_path, \"w\") as outfile:\n",
    "#     for conversation in conversations:\n",
    "#         example = convert_conversation_to_example(conversation)\n",
    "#         outfile.write(json.dumps(example) + \"\\n\")\n",
    "\n",
    "# print(\"Training file created at\", output_path)"
   ]
  },
  {
   "cell_type": "code",
   "execution_count": 22,
   "metadata": {},
   "outputs": [],
   "source": [
    "# input_path = \"/Users/blairjdaniel/AI-Assistant-Springs/data/pre-output/emails_contact.json\"\n",
    "# output_path = \"/Users/blairjdaniel/AI-Assistant-Springs/data/outputs/emails_contact_converted.jsonl\"\n",
    "# rework_emails_to_prompt_completion(input_path, output_path)"
   ]
  },
  {
   "cell_type": "code",
   "execution_count": 23,
   "metadata": {},
   "outputs": [],
   "source": [
    "# input_path = \"/Users/blairjdaniel/AI-Assistant-Springs/data/pre-output/emails_inquiries.json\"\n",
    "# output_path = \"/Users/blairjdaniel/AI-Assistant-Springs/data/outputs/emails_inquiries_converted.jsonl\"\n",
    "# rework_emails_to_prompt_completion(input_path, output_path)"
   ]
  },
  {
   "cell_type": "code",
   "execution_count": 24,
   "metadata": {},
   "outputs": [],
   "source": [
    "# input_path = \"/Users/blairjdaniel/AI-Assistant-Springs/data/pre-output/emails_waitlist.json\"\n",
    "# output_path = \"/Users/blairjdaniel/AI-Assistant-Springs/data/outputs/emails_waitlist_converted.jsonl\"\n",
    "# rework_emails_to_prompt_completion(input_path, output_path)"
   ]
  },
  {
   "cell_type": "code",
   "execution_count": 25,
   "metadata": {},
   "outputs": [],
   "source": [
    "# input_path = \"/Users/blairjdaniel/AI-Assistant-Springs/data/pre-output/emails_pricelist.json\"\n",
    "# output_path = \"/Users/blairjdaniel/AI-Assistant-Springs/data/outputs/emails_pricelist_converted.jsonl\"\n",
    "# rework_emails_to_prompt_completion(input_path, output_path)"
   ]
  },
  {
   "cell_type": "code",
   "execution_count": 26,
   "metadata": {},
   "outputs": [],
   "source": [
    "# # Load text from a file\n",
    "# with open(\"/Users/blairjdaniel/AI-Assistant-Springs/data/outputs/documents_clean.txt\", \"r\") as f:\n",
    "#     text = f.read()\n",
    "\n",
    "# # Retrieve cleaning settings from the YAML (inside data_config.yaml -> preprocessing -> text_cleaning)\n",
    "# cleaning_conf = config.get(\"preprocessing\", {}).get(\"text_cleaning\", {})\n",
    "\n",
    "# # Clean the text using your helper function\n",
    "# cleaned_text = clean_text_for_bert(text, cleaning_conf)\n",
    "\n",
    "# # Save cleaned text to a new file (plain text)\n",
    "# with open(\"/Users/blairjdaniel/AI-Assistant-Springs/data/pre-output/documents_clean.txt\", \"w\") as f:\n",
    "#     f.write(cleaned_text)"
   ]
  },
  {
   "cell_type": "code",
   "execution_count": 27,
   "metadata": {},
   "outputs": [],
   "source": [
    "# # Ensure the function is imported\n",
    "# from my_llm.my_utils import convert_documents_clean_to_jsonl\n",
    "\n",
    "# # Use the function to convert the documents\n",
    "# input_path = \"/Users/blairjdaniel/AI-Assistant-Springs/data/outputs/documents_clean.txt\"\n",
    "# output_path = \"/Users/blairjdaniel/AI-Assistant-Springs/data/outputs/documents_clean_converted.jsonl\"\n",
    "# convert_documents_clean_to_jsonl(input_path, output_path)"
   ]
  },
  {
   "cell_type": "code",
   "execution_count": 28,
   "metadata": {},
   "outputs": [],
   "source": [
    "# data_dir = \"/Users/blairjdaniel/AI-Assistant-Springs/data/google_colab\"\n",
    "# combined_data = load_all_jsonl_files(data_dir)\n",
    "# print(\"Combined dataset count:\", len(combined_data))"
   ]
  },
  {
   "cell_type": "code",
   "execution_count": 29,
   "metadata": {},
   "outputs": [],
   "source": [
    "# # Write the combined_data list to a temporary JSONL file\n",
    "# import tempfile\n",
    "# import json\n",
    "\n",
    "# with tempfile.NamedTemporaryFile(mode='w+', suffix='.jsonl', delete=False) as temp_file:\n",
    "# \tfor entry in combined_data:\n",
    "# \t\ttemp_file.write(json.dumps(entry) + '\\n')\n",
    "# \ttemp_file_path = temp_file.name\n",
    "\n",
    "# # Load the normalized data from the temporary JSONL file\n",
    "# normalized_combined_data = load_normalized_jsonl(temp_file_path)\n",
    "# print(\"Normalized DataFrame shape:\", normalized_combined_data.shape)"
   ]
  },
  {
   "cell_type": "code",
   "execution_count": 30,
   "metadata": {},
   "outputs": [],
   "source": [
    "# output_path = \"/Users/blairjdaniel/AI-Assistant-Springs/data/google_colab/data.jsonl\"\n",
    "# normalized_combined_data.to_json(output_path, orient='records', lines=True)\n",
    "# print(f\"Saved normalized data to {output_path}\")"
   ]
  },
  {
   "cell_type": "code",
   "execution_count": null,
   "metadata": {},
   "outputs": [
    {
     "name": "stdout",
     "output_type": "stream",
     "text": [
      "Reformatted JSONL saved to: /Users/blairjdaniel/AI-Assistant-Springs/data/outputs/email_data/data_cleaned/emails_contact_converted_clean.jsonl\n"
     ]
    }
   ],
   "source": [
    "# input_file = \"/Users/blairjdaniel/AI-Assistant-Springs/data/outputs/emails_contact_converted.jsonl\"\n",
    "# output_file = \"/Users/blairjdaniel/AI-Assistant-Springs/data/outputs/email_data/data_cleaned/emails_contact_converted_clean.jsonl\"\n",
    "\n",
    "# with open(input_file, 'r') as infile, open(output_file, 'w') as outfile:\n",
    "#     for line in infile:\n",
    "#         record = json.loads(line)\n",
    "#         if 'prompt' in record:\n",
    "#             record['prompt'] = reformat_prompt(record['prompt'])\n",
    "#         outfile.write(json.dumps(record) + \"\\n\")\n",
    "\n",
    "# print(\"Reformatted JSONL saved to:\", output_file)"
   ]
  },
  {
   "cell_type": "code",
   "execution_count": null,
   "metadata": {},
   "outputs": [],
   "source": [
    "# input_file = \"/Users/blairjdaniel/AI-Assistant-Springs/data/outputs/emails_inquiries_converted.jsonl\"\n",
    "# output_file = \"/Users/blairjdaniel/AI-Assistant-Springs/data/google_colab/emails_inquiries_final.jsonl\"\n",
    "\n",
    "# with open(input_file, 'r') as infile, open(output_file, 'w') as outfile:\n",
    "#     for line in infile:\n",
    "#         record = json.loads(line)\n",
    "#         if 'prompt' in record:\n",
    "#             record['prompt'] = reformat_prompt(record['prompt'])\n",
    "#         outfile.write(json.dumps(record) + \"\\n\")\n",
    "\n",
    "# print(\"Reformatted JSONL saved to:\", output_file)"
   ]
  },
  {
   "cell_type": "code",
   "execution_count": null,
   "metadata": {},
   "outputs": [],
   "source": [
    "# input_file = \"/Users/blairjdaniel/AI-Assistant-Springs/data/google_colab/emails_pricelist_converted.jsonl\"\n",
    "# output_file = \"/Users/blairjdaniel/AI-Assistant-Springs/data/outputs/email_data/email_data_cleaned/emails_pricelist_converted_clean.jsonl\"\n",
    "\n",
    "# with open(input_file, 'r') as infile, open(output_file, 'w') as outfile:\n",
    "#     for line in infile:\n",
    "#         record = json.loads(line)\n",
    "#         if 'prompt' in record:\n",
    "#             record['prompt'] = reformat_prompt(record['prompt'])\n",
    "#         outfile.write(json.dumps(record) + \"\\n\")\n",
    "\n",
    "# print(\"Reformatted JSONL saved to:\", output_file)"
   ]
  },
  {
   "cell_type": "code",
   "execution_count": null,
   "metadata": {},
   "outputs": [],
   "source": [
    "# input_file = \"/Users/blairjdaniel/AI-Assistant-Springs/data/google_colab/emails_waitlist_converted.jsonl\"\n",
    "# output_file = \"/Users/blairjdaniel/AI-Assistant-Springs/data/outputs/email_data/email_data_cleaned/emails_waitlist_converted_clean.jsonl\"\n",
    "\n",
    "# with open(input_file, 'r') as infile, open(output_file, 'w') as outfile:\n",
    "#     for line in infile:\n",
    "#         record = json.loads(line)\n",
    "#         if 'prompt' in record:\n",
    "#             record['prompt'] = reformat_prompt(record['prompt'])\n",
    "#         outfile.write(json.dumps(record) + \"\\n\")\n",
    "\n",
    "# print(\"Reformatted JSONL saved to:\", output_file)"
   ]
  },
  {
   "cell_type": "code",
   "execution_count": 35,
   "metadata": {},
   "outputs": [],
   "source": [
    "# # Load all json file in a dir\n",
    "# data_dir = \"/Users/blairjdaniel/AI-Assistant-Springs/data/outputs/email_data/data_cleaned\"\n",
    "# combined_data = load_all_jsonl_files(data_dir)\n",
    "# print(\"Combined dataset count:\", len(combined_data))"
   ]
  },
  {
   "cell_type": "code",
   "execution_count": 36,
   "metadata": {},
   "outputs": [],
   "source": [
    "# import pandas as pd\n",
    "\n",
    "# df = pd.DataFrame(combined_data)\n",
    "# df.to_json('/Users/blairjdaniel/AI-Assistant-Springs/data/outputs/email_data/data_cleaned/data.json', orient='records', lines=True)"
   ]
  },
  {
   "cell_type": "code",
   "execution_count": null,
   "metadata": {},
   "outputs": [],
   "source": [
    "# df = pd.read_parquet(\"hf://datasets/Victorano/customer-support-training-dataset/data/train-00000-of-00001.parquet\")\n",
    "# df"
   ]
  },
  {
   "cell_type": "code",
   "execution_count": null,
   "metadata": {},
   "outputs": [],
   "source": [
    "# # If you need to reformat each prompt, apply your reformat_prompt function:\n",
    "# #df[\"prompt\"] = df[\"instruction\"].apply(reformat_prompt)\n",
    "# #df[\"completion\"] = df[\"response\"].apply(reformat_prompt)\n",
    "# df = df.rename(columns={'instruction': 'prompt', 'response': 'completion'})\n",
    "# df = df.drop(columns=['flags'])"
   ]
  },
  {
   "cell_type": "code",
   "execution_count": null,
   "metadata": {},
   "outputs": [],
   "source": [
    "# # Example usage:\n",
    "# friendly_words = [\n",
    "#     \"Thank You\", \"understandable\", \"Definitely\", \"Absolutely\", \"Certainly\",\n",
    "#     \"Exactly\", \"Completely\", \"Quickly\", \"Fantastic\", \"Great\", \"Marvellous\",\n",
    "#     \"Excellent\", \"Enjoy\", \"Splendid\", \"Essential\", \"Generous\", \"Recommend\",\n",
    "#     \"Friendly\", \"Impressive\", \"Interesting\", \"Brilliant\", \"Exciting\", \"Terrific\",\n",
    "#     \"Fascinating\", \"Expert\", \"Favourite\", \"Ideal\"\n",
    "# ]\n",
    "\n",
    "# filtered_data = filter_friendly_rows(df, friendly_words, columns=['prompt','completion'])\n"
   ]
  },
  {
   "cell_type": "code",
   "execution_count": null,
   "metadata": {},
   "outputs": [],
   "source": [
    "# df = filtered_data\n"
   ]
  },
  {
   "cell_type": "code",
   "execution_count": null,
   "metadata": {},
   "outputs": [],
   "source": [
    "# synthetic_data = pd.read_json('/Users/blairjdaniel/AI-Assistant-Springs/data/cache/synthetic_data/synthetic_data.jsonl', lines=True)\n",
    "# synthetic_data['category'] = 'contact'\n",
    "# synthetic_data['intent'] = 'contact'\n",
    "# synthetic_data"
   ]
  },
  {
   "cell_type": "code",
   "execution_count": null,
   "metadata": {},
   "outputs": [
    {
     "name": "stdout",
     "output_type": "stream",
     "text": [
      "Number of rows after removing duplicates: 14135\n"
     ]
    }
   ],
   "source": [
    "# df = pd.concat([df, synthetic_data], ignore_index=True)\n",
    "# df = df.drop_duplicates()\n",
    "# # Verify the number of rows\n",
    "# print(f\"Number of rows after removing duplicates: {len(df)}\")"
   ]
  },
  {
   "cell_type": "code",
   "execution_count": null,
   "metadata": {},
   "outputs": [],
   "source": [
    "# filtered_df = filter_out_nan(df, columns=['prompt', 'completion'])\n",
    "# filtered_df"
   ]
  },
  {
   "cell_type": "code",
   "execution_count": null,
   "metadata": {},
   "outputs": [],
   "source": [
    "# filtered_df = filtered_df[~filtered_df['intent'].isin(['delivery_options', 'track_order', 'track_refund', 'change_shipping_address', 'cancel_order'])]"
   ]
  },
  {
   "cell_type": "code",
   "execution_count": null,
   "metadata": {},
   "outputs": [],
   "source": [
    "# # Assuming `filtered_df` is your DataFrame\n",
    "# columns_to_clean = [\"prompt\", \"completion\"]  # Specify the columns to clean\n",
    "# filtered_df = clean_dataframe(filtered_df, columns_to_clean)"
   ]
  },
  {
   "cell_type": "code",
   "execution_count": null,
   "metadata": {},
   "outputs": [
    {
     "name": "stdout",
     "output_type": "stream",
     "text": [
      "DataFrame successfully saved to /Users/blairjdaniel/AI-Assistant-Springs/data/outputs/attitude_data.jsonl\n"
     ]
    }
   ],
   "source": [
    "# output_path = \"/Users/blairjdaniel/AI-Assistant-Springs/data/outputs/attitude_data.jsonl\"\n",
    "# save_df_to_jsonl(filtered_df, output_path)"
   ]
  },
  {
   "cell_type": "code",
   "execution_count": null,
   "metadata": {},
   "outputs": [],
   "source": [
    "# def remove_curly_braces(text):\n",
    "#     \"\"\"\n",
    "#     Removes all curly braces `{}` and their contents from the given text.\n",
    "#     \"\"\"\n",
    "#     if isinstance(text, str):  # Ensure the input is a string\n",
    "#         return re.sub(r\"\\{\\{.*?\\}\\}\", \"\", text).strip()\n",
    "#     return text  # Return unchanged if not a string\n",
    "\n",
    "# # Apply the function to specific columns in the DataFrame\n",
    "# columns_to_clean = [\"prompt\", \"completion\"]  # Specify the columns to clean\n",
    "# for column in columns_to_clean:\n",
    "#     filtered_df[column] = filtered_df[column].apply(remove_curly_braces)\n",
    "\n",
    "# # Save the cleaned DataFrame back to a JSONL file\n",
    "# output_path = \"/Users/blairjdaniel/AI-Assistant-Springs/data/outputs/cleaned_attitude_data.jsonl\"\n",
    "# filtered_df.to_json(output_path, orient=\"records\", lines=True)"
   ]
  },
  {
   "cell_type": "code",
   "execution_count": null,
   "metadata": {},
   "outputs": [],
   "source": [
    "# import json\n",
    "\n",
    "# def convert_chat_to_jsonl(input_file, output_file):\n",
    "#     \"\"\"\n",
    "#     Converts chat data from a text file into JSONL format with Human 1 as 'prompt',\n",
    "#     Human 2 as 'completion', and adds 'category' and 'intent' fields.\n",
    "\n",
    "# #     :param input_file: Path to the input text file containing chat data.\n",
    "# #     :param output_file: Path to save the converted JSONL file.\n",
    "#     \"\"\"\n",
    "#     with open(input_file, \"r\") as infile, open(output_file, \"w\") as outfile:\n",
    "#         current_prompt = None\n",
    "#         current_completion = None\n",
    "\n",
    "#         for line in infile:\n",
    "#             line = line.strip()\n",
    "#             if line.startswith(\"question:\"):\n",
    "#                 # Save the current prompt\n",
    "#                 current_prompt = line.replace(\"question:\", \"\").strip()\n",
    "#             elif line.startswith(\"answer:\") and current_prompt:\n",
    "#                 # Save the current completion\n",
    "#                 current_completion = line.replace(\"answer:\", \"\").strip()\n",
    "\n",
    "#                 # Write the JSONL entry\n",
    "#                 if current_prompt and current_completion:\n",
    "#                     entry = {\n",
    "#                         \"prompt\": current_prompt,\n",
    "#                         \"completion\": current_completion,\n",
    "#                         \"category\": \"conversation\",\n",
    "#                         \"intent\": \"friendly_conversation\"\n",
    "#                     }\n",
    "#                     outfile.write(json.dumps(entry) + \"\\n\")\n",
    "\n",
    "#                 # Reset for the next conversation\n",
    "#                 current_prompt = None\n",
    "#                 current_completion = None\n",
    "\n",
    "# # Example usage\n",
    "# input_file = \"/Users/blairjdaniel/AI-Assistant-Springs/data/cache/general/Conversation.csv\"\n",
    "# output_file = \"/Users/blairjdaniel/AI-Assistant-Springs/data/outputs/human_chat_1_final.jsonl\"\n",
    "# convert_chat_to_jsonl(input_file, output_file)"
   ]
  },
  {
   "cell_type": "code",
   "execution_count": null,
   "metadata": {},
   "outputs": [],
   "source": [
    "# file_path = \"/Users/blairjdaniel/AI-Assistant-Springs/data/google_colab/human_chat_final.jsonl\"\n",
    "# chat_df = load_normalized_jsonl(file_path)\n",
    "# print(\"Normalized DataFrame shape:\", chat_df.shape)\n",
    "# chat_df"
   ]
  },
  {
   "cell_type": "code",
   "execution_count": null,
   "metadata": {},
   "outputs": [],
   "source": [
    "# def remove_curly_braces(text):\n",
    "#     \"\"\"\n",
    "#     Removes all curly braces `{}` and their contents from the given text.\n",
    "#     \"\"\"\n",
    "#     if isinstance(text, str):  # Ensure the input is a string\n",
    "#         return re.sub(r\"\\{\\{.*?\\}\\}\", \"\", text).strip()\n",
    "#     return text  # Return unchanged if not a string\n",
    "\n",
    "# # Apply the function to specific columns in the DataFrame\n",
    "# columns_to_clean = [\"prompt\", \"completion\"]  # Specify the columns to clean\n",
    "# for column in columns_to_clean:\n",
    "#     chat_df[column] = chat_df[column].apply(remove_curly_braces)"
   ]
  },
  {
   "cell_type": "code",
   "execution_count": null,
   "metadata": {},
   "outputs": [
    {
     "name": "stdout",
     "output_type": "stream",
     "text": [
      "Number of rows after removing duplicates: 12699\n"
     ]
    }
   ],
   "source": [
    "# df = pd.concat([filtered_df, chat_df], ignore_index=True)\n",
    "# df = df.drop_duplicates()\n",
    "# # Verify the number of rows\n",
    "# print(f\"Number of rows after removing duplicates: {len(df)}\")"
   ]
  },
  {
   "cell_type": "code",
   "execution_count": null,
   "metadata": {},
   "outputs": [
    {
     "name": "stdout",
     "output_type": "stream",
     "text": [
      "Conversion complete. JSONL file saved to /Users/blairjdaniel/AI-Assistant-Springs/data/google_colab/human_chat_1.jsonl\n"
     ]
    }
   ],
   "source": [
    "# import csv\n",
    "# import json\n",
    "\n",
    "# # Input and output file paths\n",
    "# input_csv_path = \"/Users/blairjdaniel/AI-Assistant-Springs/data/cache/general/Conversation.csv\"\n",
    "# output_jsonl_path = \"/Users/blairjdaniel/AI-Assistant-Springs/data/google_colab/human_chat_1.jsonl\"\n",
    "\n",
    "# # Open the CSV file and read its contents\n",
    "# with open(input_csv_path, mode=\"r\", encoding=\"utf-8\") as csv_file:\n",
    "#     csv_reader = csv.DictReader(csv_file)\n",
    "    \n",
    "#     # Open the JSONL file for writing\n",
    "#     with open(output_jsonl_path, mode=\"w\", encoding=\"utf-8\") as jsonl_file:\n",
    "#         for row in csv_reader:\n",
    "#             # Create the JSON object for each row\n",
    "#             json_object = {\n",
    "#                 \"prompt\": row[\"question\"],\n",
    "#                 \"completion\": row[\"answer\"],\n",
    "#                 \"category\": \"conversation\",\n",
    "#                 \"intent\": \"conversation\"\n",
    "#             }\n",
    "#             # Write the JSON object as a line in the JSONL file\n",
    "#             jsonl_file.write(json.dumps(json_object) + \"\\n\")\n",
    "\n",
    "# print(f\"Conversion complete. JSONL file saved to {output_jsonl_path}\")"
   ]
  },
  {
   "cell_type": "code",
   "execution_count": null,
   "metadata": {},
   "outputs": [],
   "source": [
    "# file_path = \"/Users/blairjdaniel/AI-Assistant-Springs/data/google_colab/human_chat_1.jsonl\"\n",
    "# chat1_df = load_normalized_jsonl(file_path)\n",
    "# print(\"Normalized DataFrame shape:\", chat1_df.shape)\n",
    "# chat1_df"
   ]
  },
  {
   "cell_type": "code",
   "execution_count": null,
   "metadata": {},
   "outputs": [],
   "source": [
    "# def remove_curly_braces(text):\n",
    "#     \"\"\"\n",
    "#     Removes all curly braces `{}` and their contents from the given text.\n",
    "#     \"\"\"\n",
    "#     if isinstance(text, str):  # Ensure the input is a string\n",
    "#         return re.sub(r\"\\{\\{.*?\\}\\}\", \"\", text).strip()\n",
    "#     return text  # Return unchanged if not a string\n",
    "\n",
    "# # Apply the function to specific columns in the DataFrame\n",
    "# columns_to_clean = [\"prompt\", \"completion\"]  # Specify the columns to clean\n",
    "# for column in columns_to_clean:\n",
    "#     chat1_df[column] = chat1_df[column].apply(remove_curly_braces)"
   ]
  },
  {
   "cell_type": "code",
   "execution_count": null,
   "metadata": {},
   "outputs": [],
   "source": [
    "# df = pd.concat([df, chat1_df], ignore_index=True)\n",
    "# df = df.drop_duplicates()\n",
    "# # Verify the number of rows\n",
    "# print(f\"Number of rows after removing duplicates: {len(df)}\")"
   ]
  },
  {
   "cell_type": "code",
   "execution_count": null,
   "metadata": {},
   "outputs": [
    {
     "name": "stdout",
     "output_type": "stream",
     "text": [
      "DataFrame saved to JSONL file at /Users/blairjdaniel/AI-Assistant-Springs/data/google_colab/human_chat.jsonl\n"
     ]
    }
   ],
   "source": [
    "# #Define the output JSONL file path\n",
    "# output_jsonl_path = \"/Users/blairjdaniel/AI-Assistant-Springs/data/google_colab/human_chat.jsonl\"\n",
    "\n",
    "# # Save the DataFrame to a JSONL file\n",
    "# df.to_json(output_jsonl_path, orient='records', lines=True)\n",
    "\n",
    "# print(f\"DataFrame saved to JSONL file at {output_jsonl_path}\")"
   ]
  },
  {
   "cell_type": "code",
   "execution_count": null,
   "metadata": {},
   "outputs": [],
   "source": [
    "# df = pd.read_json('/Users/blairjdaniel/AI-Assistant-Springs/data/google_colab/human_chat.jsonl', lines = True)\n",
    "# emotion = pd.read_csv('/Users/blairjdaniel/AI-Assistant-Springs/data/cache/general/emotion-emotion_69k.csv')\n",
    "# df.head()"
   ]
  },
  {
   "cell_type": "code",
   "execution_count": null,
   "metadata": {},
   "outputs": [],
   "source": [
    "# # Assuming `df` is your DataFrame\n",
    "# df['category'] = 'conversation_customer_service'\n",
    "# df.head()"
   ]
  },
  {
   "cell_type": "code",
   "execution_count": null,
   "metadata": {},
   "outputs": [
    {
     "name": "stdout",
     "output_type": "stream",
     "text": [
      "Conversion complete. JSONL file saved to /Users/blairjdaniel/AI-Assistant-Springs/data/google_colab/emotion.jsonl\n"
     ]
    }
   ],
   "source": [
    "# import csv\n",
    "# import json\n",
    "\n",
    "# # Input and output file paths\n",
    "# input_csv_path = \"/Users/blairjdaniel/AI-Assistant-Springs/data/cache/general/emotion-emotion_69k.csv\"\n",
    "# output_jsonl_path = \"/Users/blairjdaniel/AI-Assistant-Springs/data/google_colab/emotion.jsonl\"\n",
    "\n",
    "# # Open the CSV file and read its contents\n",
    "# with open(input_csv_path, mode=\"r\", encoding=\"utf-8\") as csv_file:\n",
    "#     csv_reader = csv.DictReader(csv_file)\n",
    "    \n",
    "#     # Open the JSONL file for writing\n",
    "#     with open(output_jsonl_path, mode=\"w\", encoding=\"utf-8\") as jsonl_file:\n",
    "#         for row in csv_reader:\n",
    "#             # Create the JSON object for each row\n",
    "#             json_object = {\n",
    "#                 \"prompt\": row[\"Situation\"],\n",
    "#                 \"completion\": row[\"empathetic_dialogues\"],\n",
    "#                 \"category\": \"conversation_normal\",\n",
    "#                 \"intent\": \"conversation_emphatetic\"\n",
    "#             }\n",
    "#             # Write the JSON object as a line in the JSONL file\n",
    "#             jsonl_file.write(json.dumps(json_object) + \"\\n\")\n",
    "\n",
    "# print(f\"Conversion complete. JSONL file saved to {output_jsonl_path}\")"
   ]
  },
  {
   "cell_type": "code",
   "execution_count": null,
   "metadata": {},
   "outputs": [],
   "source": [
    "# file_path = \"/Users/blairjdaniel/AI-Assistant-Springs/data/google_colab/emotion.jsonl\"\n",
    "# emotion_df = load_normalized_jsonl(file_path)\n",
    "# print(\"Normalized DataFrame shape:\", emotion_df.shape)\n",
    "# emotion_df.drop_duplicates()\n",
    "# emotion_df"
   ]
  },
  {
   "cell_type": "code",
   "execution_count": null,
   "metadata": {},
   "outputs": [
    {
     "name": "stdout",
     "output_type": "stream",
     "text": [
      "Number of rows after removing duplicates: 80764\n"
     ]
    }
   ],
   "source": [
    "# df_all = pd.concat([df, emotion_df], ignore_index=True)\n",
    "# df_all = df_all.drop_duplicates()\n",
    "# # Verify the number of rows\n",
    "# print(f\"Number of rows after removing duplicates: {len(df_all)}\")"
   ]
  },
  {
   "cell_type": "code",
   "execution_count": null,
   "metadata": {},
   "outputs": [
    {
     "name": "stdout",
     "output_type": "stream",
     "text": [
      "DataFrame saved to JSONL file at /Users/blairjdaniel/AI-Assistant-Springs/data/google_colab/emotion_human.jsonl\n"
     ]
    }
   ],
   "source": [
    "# #Define the output JSONL file path\n",
    "# output_jsonl_path = \"/Users/blairjdaniel/AI-Assistant-Springs/data/google_colab/emotion_human.jsonl\"\n",
    "\n",
    "# # Save the DataFrame to a JSONL file\n",
    "# df_all.to_json(output_jsonl_path, orient='records', lines=True)\n",
    "\n",
    "# print(f\"DataFrame saved to JSONL file at {output_jsonl_path}\")"
   ]
  },
  {
   "cell_type": "code",
   "execution_count": null,
   "metadata": {},
   "outputs": [],
   "source": [
    "# file_path = \"/Users/blairjdaniel/AI-Assistant-Springs/data/google_colab/documents_final.jsonl\"\n",
    "# documents_df = load_normalized_jsonl(file_path)\n",
    "# print(\"Normalized DataFrame shape:\", documents_df.shape)\n",
    "# documents_df = documents_df.drop(columns=['category', 'intent'])\n"
   ]
  },
  {
   "cell_type": "code",
   "execution_count": null,
   "metadata": {},
   "outputs": [
    {
     "name": "stdout",
     "output_type": "stream",
     "text": [
      "Updated file with intent column saved to /Users/blairjdaniel/AI-Assistant-Springs/data/google_colab/website_with_intent.jsonl\n"
     ]
    }
   ],
   "source": [
    "# import json\n",
    "\n",
    "# # File paths\n",
    "# input_file = \"/Users/blairjdaniel/AI-Assistant-Springs/data/google_colab/website_final.jsonl\"\n",
    "# output_file = \"/Users/blairjdaniel/AI-Assistant-Springs/data/google_colab/website_with_intent.jsonl\"\n",
    "\n",
    "# # Add intent column to each record\n",
    "# with open(input_file, \"r\") as infile, open(output_file, \"w\") as outfile:\n",
    "#     for line in infile:\n",
    "#         record = json.loads(line)\n",
    "#         record[\"intent\"] = \"create website post\"  # Add the intent field\n",
    "#         outfile.write(json.dumps(record) + \"\\n\")\n",
    "\n",
    "# print(f\"Updated file with intent column saved to {output_file}\")\n",
    "\n"
   ]
  },
  {
   "cell_type": "code",
   "execution_count": null,
   "metadata": {},
   "outputs": [],
   "source": []
  },
  {
   "cell_type": "code",
   "execution_count": null,
   "metadata": {},
   "outputs": [
    {
     "name": "stdout",
     "output_type": "stream",
     "text": [
      "Updated file with intent column saved to /Users/blairjdaniel/AI-Assistant-Springs/data/google_colab/emails_inquiries_with_intent.jsonl\n"
     ]
    }
   ],
   "source": [
    "# import json\n",
    "\n",
    "# # File paths\n",
    "# input_file = \"/Users/blairjdaniel/AI-Assistant-Springs/data/google_colab/emails_inquiries_final.jsonl\"\n",
    "# output_file = \"/Users/blairjdaniel/AI-Assistant-Springs/data/google_colab/emails_inquiries_with_intent.jsonl\"\n",
    "\n",
    "# # Add intent column to each record\n",
    "# with open(input_file, \"r\") as infile, open(output_file, \"w\") as outfile:\n",
    "#     for line in infile:\n",
    "#         record = json.loads(line)\n",
    "#         record[\"intent\"] = \"general inquiries\"  # Add the intent field\n",
    "#         outfile.write(json.dumps(record) + \"\\n\")\n",
    "\n",
    "# print(f\"Updated file with intent column saved to {output_file}\")"
   ]
  },
  {
   "cell_type": "code",
   "execution_count": null,
   "metadata": {},
   "outputs": [
    {
     "name": "stdout",
     "output_type": "stream",
     "text": [
      "Updated file with intent column saved to /Users/blairjdaniel/AI-Assistant-Springs/data/google_colab/emails_waitlist_with_intent.jsonl\n"
     ]
    }
   ],
   "source": [
    "# import json\n",
    "\n",
    "# # File paths\n",
    "# input_file = \"/Users/blairjdaniel/AI-Assistant-Springs/data/google_colab/emails_waitlist_final.jsonl\"\n",
    "# output_file = \"/Users/blairjdaniel/AI-Assistant-Springs/data/google_colab/emails_waitlist_with_intent.jsonl\"\n",
    "\n",
    "# # Add intent column to each record\n",
    "# with open(input_file, \"r\") as infile, open(output_file, \"w\") as outfile:\n",
    "#     for line in infile:\n",
    "#         record = json.loads(line)\n",
    "#         record[\"intent\"] = \"waitlist\"  # Add the intent field\n",
    "#         outfile.write(json.dumps(record) + \"\\n\")\n",
    "\n",
    "# print(f\"Updated file with intent column saved to {output_file}\")"
   ]
  },
  {
   "cell_type": "code",
   "execution_count": null,
   "metadata": {},
   "outputs": [
    {
     "name": "stdout",
     "output_type": "stream",
     "text": [
      "Normalized DataFrame shape: (68, 3)\n",
      "Normalized DataFrame shape: (68, 3)\n",
      "Normalized DataFrame shape: (24, 3)\n"
     ]
    }
   ],
   "source": [
    "# file_path = \"/Users/blairjdaniel/AI-Assistant-Springs/data/google_colab/emails_contact_with_intent.jsonl\"\n",
    "# email_contact_df = load_normalized_jsonl(file_path)\n",
    "# print(\"Normalized DataFrame shape:\", email_contact_df.shape)\n",
    "\n",
    "# file_path = \"/Users/blairjdaniel/AI-Assistant-Springs/data/google_colab/emails_inquiries_with_intent.jsonl\"\n",
    "# email_inquiries_df = load_normalized_jsonl(file_path)\n",
    "# print(\"Normalized DataFrame shape:\", email_inquiries_df.shape)\n",
    "\n",
    "# file_path = \"/Users/blairjdaniel/AI-Assistant-Springs/data/google_colab/emails_waitlist_with_intent.jsonl\"\n",
    "# email_waitlist_df = load_normalized_jsonl(file_path)\n",
    "# print(\"Normalized DataFrame shape:\", email_waitlist_df.shape)\n"
   ]
  },
  {
   "cell_type": "code",
   "execution_count": null,
   "metadata": {},
   "outputs": [
    {
     "name": "stdout",
     "output_type": "stream",
     "text": [
      "Number of rows after removing duplicates: 152\n"
     ]
    }
   ],
   "source": [
    "# df = pd.concat([email_contact_df, email_inquiries_df, email_waitlist_df], ignore_index=True)\n",
    "# df = df.drop_duplicates()\n",
    "# # Verify the number of rows\n",
    "# print(f\"Number of rows after removing duplicates: {len(df)}\")"
   ]
  },
  {
   "cell_type": "code",
   "execution_count": null,
   "metadata": {},
   "outputs": [
    {
     "name": "stdout",
     "output_type": "stream",
     "text": [
      "DataFrame saved to JSONL file at /Users/blairjdaniel/AI-Assistant-Springs/data/google_colab/emails.jsonl\n"
     ]
    }
   ],
   "source": [
    "# #Define the output JSONL file path\n",
    "# output_jsonl_path = \"/Users/blairjdaniel/AI-Assistant-Springs/data/google_colab/emails.jsonl\"\n",
    "\n",
    "# # Save the DataFrame to a JSONL file\n",
    "# df.to_json(output_jsonl_path, orient='records', lines=True)\n",
    "\n",
    "# print(f\"DataFrame saved to JSONL file at {output_jsonl_path}\")"
   ]
  },
  {
   "cell_type": "code",
   "execution_count": null,
   "metadata": {},
   "outputs": [
    {
     "name": "stdout",
     "output_type": "stream",
     "text": [
      "Combined dataset count: 314\n"
     ]
    }
   ],
   "source": [
    "#  # Load all json file in a dir\n",
    "# data_dir = \"/Users/blairjdaniel/AI-Assistant-Springs/data/google_colab/finals\"\n",
    "# combined_data = load_all_jsonl_files(data_dir)\n",
    "# print(\"Combined dataset count:\", len(combined_data))"
   ]
  },
  {
   "cell_type": "code",
   "execution_count": null,
   "metadata": {},
   "outputs": [
    {
     "data": {
      "text/html": [
       "<div>\n",
       "<style scoped>\n",
       "    .dataframe tbody tr th:only-of-type {\n",
       "        vertical-align: middle;\n",
       "    }\n",
       "\n",
       "    .dataframe tbody tr th {\n",
       "        vertical-align: top;\n",
       "    }\n",
       "\n",
       "    .dataframe thead th {\n",
       "        text-align: right;\n",
       "    }\n",
       "</style>\n",
       "<table border=\"1\" class=\"dataframe\">\n",
       "  <thead>\n",
       "    <tr style=\"text-align: right;\">\n",
       "      <th></th>\n",
       "      <th>prompt</th>\n",
       "      <th>completion</th>\n",
       "      <th>intent</th>\n",
       "    </tr>\n",
       "  </thead>\n",
       "  <tbody>\n",
       "    <tr>\n",
       "      <th>0</th>\n",
       "      <td>Lot 168 is the lot I’m interested in but would...</td>\n",
       "      <td>Hi, Thanks so much for reaching out! My name i...</td>\n",
       "      <td>contact us</td>\n",
       "    </tr>\n",
       "    <tr>\n",
       "      <th>1</th>\n",
       "      <td>Firstly renting and then possibly buying a pad...</td>\n",
       "      <td>Hi, Thanks so much for reaching out! My name i...</td>\n",
       "      <td>contact us</td>\n",
       "    </tr>\n",
       "    <tr>\n",
       "      <th>2</th>\n",
       "      <td>A tour of the resort and activities before we ...</td>\n",
       "      <td>Hi, Thanks so much for reaching out! My name i...</td>\n",
       "      <td>contact us</td>\n",
       "    </tr>\n",
       "    <tr>\n",
       "      <th>3</th>\n",
       "      <td>Private RV\\nQuestions: Pricing I saw the $210 ...</td>\n",
       "      <td>Hi, Thanks so much for reaching out! My name i...</td>\n",
       "      <td>contact us</td>\n",
       "    </tr>\n",
       "    <tr>\n",
       "      <th>4</th>\n",
       "      <td>Rv lot\\nQuestions:</td>\n",
       "      <td>Hi, Thanks so much for reaching out! My name i...</td>\n",
       "      <td>contact us</td>\n",
       "    </tr>\n",
       "    <tr>\n",
       "      <th>...</th>\n",
       "      <td>...</td>\n",
       "      <td>...</td>\n",
       "      <td>...</td>\n",
       "    </tr>\n",
       "    <tr>\n",
       "      <th>309</th>\n",
       "      <td>Create a website entry about contact info at t...</td>\n",
       "      <td>CONTACT US Email: contact@springsrv.com Office...</td>\n",
       "      <td>create website post</td>\n",
       "    </tr>\n",
       "    <tr>\n",
       "      <th>310</th>\n",
       "      <td>Create a website entry about phase 3 lots for ...</td>\n",
       "      <td>Phase 3 New Lots Now Available We are excited ...</td>\n",
       "      <td>create website post</td>\n",
       "    </tr>\n",
       "    <tr>\n",
       "      <th>311</th>\n",
       "      <td>Create a website entry about phase 3 pricelist...</td>\n",
       "      <td>View Phase 3 Price List A SUMMER HAVEN SO CLOS...</td>\n",
       "      <td>create website post</td>\n",
       "    </tr>\n",
       "    <tr>\n",
       "      <th>312</th>\n",
       "      <td>Create a website entry about tips at the Sprin...</td>\n",
       "      <td>Why not have a vacation on your doorstep all y...</td>\n",
       "      <td>create website post</td>\n",
       "    </tr>\n",
       "    <tr>\n",
       "      <th>313</th>\n",
       "      <td>Create a website entry about phase 3 lots for ...</td>\n",
       "      <td>NEW PHASE 3 LOTS Experience Phase 3 of our exc...</td>\n",
       "      <td>create website post</td>\n",
       "    </tr>\n",
       "  </tbody>\n",
       "</table>\n",
       "<p>314 rows × 3 columns</p>\n",
       "</div>"
      ],
      "text/plain": [
       "                                                prompt  \\\n",
       "0    Lot 168 is the lot I’m interested in but would...   \n",
       "1    Firstly renting and then possibly buying a pad...   \n",
       "2    A tour of the resort and activities before we ...   \n",
       "3    Private RV\\nQuestions: Pricing I saw the $210 ...   \n",
       "4                                  Rv lot\\nQuestions:    \n",
       "..                                                 ...   \n",
       "309  Create a website entry about contact info at t...   \n",
       "310  Create a website entry about phase 3 lots for ...   \n",
       "311  Create a website entry about phase 3 pricelist...   \n",
       "312  Create a website entry about tips at the Sprin...   \n",
       "313  Create a website entry about phase 3 lots for ...   \n",
       "\n",
       "                                            completion               intent  \n",
       "0    Hi, Thanks so much for reaching out! My name i...           contact us  \n",
       "1    Hi, Thanks so much for reaching out! My name i...           contact us  \n",
       "2    Hi, Thanks so much for reaching out! My name i...           contact us  \n",
       "3    Hi, Thanks so much for reaching out! My name i...           contact us  \n",
       "4    Hi, Thanks so much for reaching out! My name i...           contact us  \n",
       "..                                                 ...                  ...  \n",
       "309  CONTACT US Email: contact@springsrv.com Office...  create website post  \n",
       "310  Phase 3 New Lots Now Available We are excited ...  create website post  \n",
       "311  View Phase 3 Price List A SUMMER HAVEN SO CLOS...  create website post  \n",
       "312  Why not have a vacation on your doorstep all y...  create website post  \n",
       "313  NEW PHASE 3 LOTS Experience Phase 3 of our exc...  create website post  \n",
       "\n",
       "[314 rows x 3 columns]"
      ]
     },
     "execution_count": 43,
     "metadata": {},
     "output_type": "execute_result"
    }
   ],
   "source": [
    "# data = pd.DataFrame(combined_data)\n",
    "# data = data.drop(columns=['category'])\n",
    "# data"
   ]
  },
  {
   "cell_type": "code",
   "execution_count": null,
   "metadata": {},
   "outputs": [
    {
     "name": "stdout",
     "output_type": "stream",
     "text": [
      "DataFrame saved to JSONL file at /Users/blairjdaniel/AI-Assistant-Springs/data/google_colab/finals/final_data.jsonl\n"
     ]
    }
   ],
   "source": [
    "# #Define the output JSONL file path\n",
    "# output_jsonl_path = \"/Users/blairjdaniel/AI-Assistant-Springs/data/google_colab/finals/final_data.jsonl\"\n",
    "\n",
    "# # Save the DataFrame to a JSONL file\n",
    "# data.to_json(output_jsonl_path, orient='records', lines=True)\n",
    "\n",
    "# print(f\"DataFrame saved to JSONL file at {output_jsonl_path}\")"
   ]
  },
  {
   "cell_type": "code",
   "execution_count": 14,
   "metadata": {},
   "outputs": [
    {
     "name": "stdout",
     "output_type": "stream",
     "text": [
      "Combined dataset count: 552\n"
     ]
    }
   ],
   "source": [
    " # Load all json file in a dir\n",
    "data_dir = \"/Users/blairjdaniel/AI-Assistant-Springs/data/pre-output/email\"\n",
    "data = load_all_jsonl_files(data_dir)\n",
    "print(\"Combined dataset count:\", len(data))"
   ]
  },
  {
   "cell_type": "code",
   "execution_count": 16,
   "metadata": {},
   "outputs": [],
   "source": [
    "data = pd.DataFrame(combined_data)\n",
    "#data = data.drop(columns=['category'])\n",
    "data = data.drop(columns=['from', 'date', 'body', 'form',\t'company_voice'])"
   ]
  },
  {
   "cell_type": "code",
   "execution_count": 19,
   "metadata": {},
   "outputs": [],
   "source": [
    "data['label'] = \"contact\"\n",
    "data.to_csv('/Users/blairjdaniel/AI-Assistant-Springs/data/google_colab/finals/final_email.csv')"
   ]
  },
  {
   "cell_type": "code",
   "execution_count": null,
   "metadata": {},
   "outputs": [],
   "source": [
    "import pandas as pd\n",
    "\n",
    "# Sample data for demonstration\n",
    "data = {\n",
    "    \"subject\": [\n",
    "        \"Springs RV Resort Contact Us\",\n",
    "        \"Springs RV Resort Join the waitlist\",\n",
    "        \"RV Lot Phase 3 Price List - Springs RV Resort\",\n",
    "         \"RV Lot Sales - Springs RV Resort\",\n",
    "        \"I have a question about your services\",\n",
    "        \"Interested in booking a tour\",\n",
    "        \"Need more info on rentals\"\n",
    "    ]\n",
    "}\n",
    "df = pd.DataFrame(data)\n",
    "\n",
    "# Step 1: Define a function to assign a textual label based on the subject\n",
    "def assign_label(subject):\n",
    "    if subject == \"Springs RV Resort Contact Us\":\n",
    "        return \"contact\"\n",
    "    elif subject == \"Springs RV Resort Join the waitlist\":\n",
    "        return \"waitlist\"\n",
    "    elif subject == \"RV Lot Phase 3 Price List - Springs RV Resort\":\n",
    "        return \"pricelist\"\n",
    "    else:\n",
    "        return \"inquiries\"\n",
    "\n",
    "# Apply the function to create a new column for textual labels\n",
    "df[\"label_text\"] = df[\"subject\"].apply(assign_label)\n",
    "\n",
    "# Step 2: Map the textual labels to numeric values\n",
    "label_mapping = {\"contact\": 0, \"waitlist\": 1, \"pricelist\": 2, \"inquiries\": 3}\n",
    "df[\"label\"] = df[\"label_text\"].map(label_mapping)\n",
    "\n",
    "print(df)\n",
    "\n",
    "data = pd.read_csv('/Users/blairjdaniel/AI-Assistant-Springs/data/google_colab/finals/final_email.csv')\n",
    "\n",
    "# Step 1: Define a function to assign a textual label based on the subject\n",
    "def assign_label(subject):\n",
    "    if subject == \"Springs RV Resort Contact Us\":\n",
    "        return \"contact\"\n",
    "    elif subject == \"Springs RV Resort Join the waitlist\":\n",
    "        return \"waitlist\"\n",
    "    elif subject == \"RV Lot Phase 3 Price List - Springs RV Resort\":\n",
    "        return \"pricelist\"\n",
    "    else:\n",
    "        return \"inquiries\"\n",
    "\n",
    "# Apply the function to create a new column for textual labels\n",
    "data[\"label_text\"] = data[\"subject\"].apply(assign_label)\n",
    "\n",
    "# Step 2: Map the textual labels to numeric values\n",
    "label_mapping = {\"contact\": 0, \"waitlist\": 1, \"pricelist\": 2, \"inquiries\": 3}\n",
    "data[\"label\"] = data[\"label_text\"].map(label_mapping)\n",
    "\n",
    "print(data)"
   ]
  },
  {
   "cell_type": "code",
   "execution_count": 29,
   "metadata": {},
   "outputs": [
    {
     "data": {
      "text/html": [
       "<div>\n",
       "<style scoped>\n",
       "    .dataframe tbody tr th:only-of-type {\n",
       "        vertical-align: middle;\n",
       "    }\n",
       "\n",
       "    .dataframe tbody tr th {\n",
       "        vertical-align: top;\n",
       "    }\n",
       "\n",
       "    .dataframe thead th {\n",
       "        text-align: right;\n",
       "    }\n",
       "</style>\n",
       "<table border=\"1\" class=\"dataframe\">\n",
       "  <thead>\n",
       "    <tr style=\"text-align: right;\">\n",
       "      <th></th>\n",
       "      <th>subject</th>\n",
       "      <th>label</th>\n",
       "      <th>label_text</th>\n",
       "    </tr>\n",
       "  </thead>\n",
       "  <tbody>\n",
       "    <tr>\n",
       "      <th>0</th>\n",
       "      <td>Springs RV Resort Contact Us</td>\n",
       "      <td>0</td>\n",
       "      <td>contact</td>\n",
       "    </tr>\n",
       "    <tr>\n",
       "      <th>1</th>\n",
       "      <td>Springs RV Resort Contact Us</td>\n",
       "      <td>0</td>\n",
       "      <td>contact</td>\n",
       "    </tr>\n",
       "    <tr>\n",
       "      <th>2</th>\n",
       "      <td>Springs RV Resort Contact Us</td>\n",
       "      <td>0</td>\n",
       "      <td>contact</td>\n",
       "    </tr>\n",
       "    <tr>\n",
       "      <th>3</th>\n",
       "      <td>Springs RV Resort Contact Us</td>\n",
       "      <td>0</td>\n",
       "      <td>contact</td>\n",
       "    </tr>\n",
       "    <tr>\n",
       "      <th>4</th>\n",
       "      <td>Springs RV Resort Contact Us</td>\n",
       "      <td>0</td>\n",
       "      <td>contact</td>\n",
       "    </tr>\n",
       "    <tr>\n",
       "      <th>5</th>\n",
       "      <td>Springs RV Resort Contact Us</td>\n",
       "      <td>0</td>\n",
       "      <td>contact</td>\n",
       "    </tr>\n",
       "    <tr>\n",
       "      <th>6</th>\n",
       "      <td>Springs RV Resort Contact Us</td>\n",
       "      <td>0</td>\n",
       "      <td>contact</td>\n",
       "    </tr>\n",
       "    <tr>\n",
       "      <th>7</th>\n",
       "      <td>Springs RV Resort Contact Us</td>\n",
       "      <td>0</td>\n",
       "      <td>contact</td>\n",
       "    </tr>\n",
       "    <tr>\n",
       "      <th>8</th>\n",
       "      <td>Springs RV Resort Contact Us</td>\n",
       "      <td>0</td>\n",
       "      <td>contact</td>\n",
       "    </tr>\n",
       "    <tr>\n",
       "      <th>9</th>\n",
       "      <td>Springs RV Resort Contact Us</td>\n",
       "      <td>0</td>\n",
       "      <td>contact</td>\n",
       "    </tr>\n",
       "    <tr>\n",
       "      <th>10</th>\n",
       "      <td>Springs RV Resort Contact Us</td>\n",
       "      <td>0</td>\n",
       "      <td>contact</td>\n",
       "    </tr>\n",
       "    <tr>\n",
       "      <th>11</th>\n",
       "      <td>Springs RV Resort Contact Us</td>\n",
       "      <td>0</td>\n",
       "      <td>contact</td>\n",
       "    </tr>\n",
       "    <tr>\n",
       "      <th>12</th>\n",
       "      <td>Springs RV Resort Contact Us</td>\n",
       "      <td>0</td>\n",
       "      <td>contact</td>\n",
       "    </tr>\n",
       "    <tr>\n",
       "      <th>13</th>\n",
       "      <td>Springs RV Resort Contact Us</td>\n",
       "      <td>0</td>\n",
       "      <td>contact</td>\n",
       "    </tr>\n",
       "    <tr>\n",
       "      <th>14</th>\n",
       "      <td>Springs RV Resort Contact Us</td>\n",
       "      <td>0</td>\n",
       "      <td>contact</td>\n",
       "    </tr>\n",
       "    <tr>\n",
       "      <th>15</th>\n",
       "      <td>Springs RV Resort Contact Us</td>\n",
       "      <td>0</td>\n",
       "      <td>contact</td>\n",
       "    </tr>\n",
       "    <tr>\n",
       "      <th>16</th>\n",
       "      <td>Springs RV Resort Contact Us</td>\n",
       "      <td>0</td>\n",
       "      <td>contact</td>\n",
       "    </tr>\n",
       "    <tr>\n",
       "      <th>17</th>\n",
       "      <td>Springs RV Resort Contact Us</td>\n",
       "      <td>0</td>\n",
       "      <td>contact</td>\n",
       "    </tr>\n",
       "    <tr>\n",
       "      <th>18</th>\n",
       "      <td>Springs RV Resort Contact Us</td>\n",
       "      <td>0</td>\n",
       "      <td>contact</td>\n",
       "    </tr>\n",
       "    <tr>\n",
       "      <th>19</th>\n",
       "      <td>Springs RV Resort Contact Us</td>\n",
       "      <td>0</td>\n",
       "      <td>contact</td>\n",
       "    </tr>\n",
       "    <tr>\n",
       "      <th>20</th>\n",
       "      <td>Springs RV Resort Contact Us</td>\n",
       "      <td>0</td>\n",
       "      <td>contact</td>\n",
       "    </tr>\n",
       "    <tr>\n",
       "      <th>21</th>\n",
       "      <td>Springs RV Resort Contact Us</td>\n",
       "      <td>0</td>\n",
       "      <td>contact</td>\n",
       "    </tr>\n",
       "    <tr>\n",
       "      <th>22</th>\n",
       "      <td>Springs RV Resort Contact Us</td>\n",
       "      <td>0</td>\n",
       "      <td>contact</td>\n",
       "    </tr>\n",
       "    <tr>\n",
       "      <th>23</th>\n",
       "      <td>Springs RV Resort Contact Us</td>\n",
       "      <td>0</td>\n",
       "      <td>contact</td>\n",
       "    </tr>\n",
       "    <tr>\n",
       "      <th>24</th>\n",
       "      <td>Springs RV Resort Contact Us</td>\n",
       "      <td>0</td>\n",
       "      <td>contact</td>\n",
       "    </tr>\n",
       "    <tr>\n",
       "      <th>25</th>\n",
       "      <td>Springs RV Resort Contact Us</td>\n",
       "      <td>0</td>\n",
       "      <td>contact</td>\n",
       "    </tr>\n",
       "    <tr>\n",
       "      <th>26</th>\n",
       "      <td>Springs RV Resort Contact Us</td>\n",
       "      <td>0</td>\n",
       "      <td>contact</td>\n",
       "    </tr>\n",
       "    <tr>\n",
       "      <th>27</th>\n",
       "      <td>Springs RV Resort Contact Us</td>\n",
       "      <td>0</td>\n",
       "      <td>contact</td>\n",
       "    </tr>\n",
       "    <tr>\n",
       "      <th>28</th>\n",
       "      <td>Springs RV Resort Contact Us</td>\n",
       "      <td>0</td>\n",
       "      <td>contact</td>\n",
       "    </tr>\n",
       "    <tr>\n",
       "      <th>29</th>\n",
       "      <td>Springs RV Resort Contact Us</td>\n",
       "      <td>0</td>\n",
       "      <td>contact</td>\n",
       "    </tr>\n",
       "    <tr>\n",
       "      <th>30</th>\n",
       "      <td>Springs RV Resort Contact Us</td>\n",
       "      <td>0</td>\n",
       "      <td>contact</td>\n",
       "    </tr>\n",
       "    <tr>\n",
       "      <th>31</th>\n",
       "      <td>Springs RV Resort Contact Us</td>\n",
       "      <td>0</td>\n",
       "      <td>contact</td>\n",
       "    </tr>\n",
       "    <tr>\n",
       "      <th>32</th>\n",
       "      <td>Springs RV Resort Contact Us</td>\n",
       "      <td>0</td>\n",
       "      <td>contact</td>\n",
       "    </tr>\n",
       "    <tr>\n",
       "      <th>33</th>\n",
       "      <td>Springs RV Resort Contact Us</td>\n",
       "      <td>0</td>\n",
       "      <td>contact</td>\n",
       "    </tr>\n",
       "    <tr>\n",
       "      <th>34</th>\n",
       "      <td>Springs RV Resort Contact Us</td>\n",
       "      <td>0</td>\n",
       "      <td>contact</td>\n",
       "    </tr>\n",
       "    <tr>\n",
       "      <th>35</th>\n",
       "      <td>Springs RV Resort Contact Us</td>\n",
       "      <td>0</td>\n",
       "      <td>contact</td>\n",
       "    </tr>\n",
       "    <tr>\n",
       "      <th>36</th>\n",
       "      <td>Springs RV Resort Contact Us</td>\n",
       "      <td>0</td>\n",
       "      <td>contact</td>\n",
       "    </tr>\n",
       "    <tr>\n",
       "      <th>37</th>\n",
       "      <td>Springs RV Resort Contact Us</td>\n",
       "      <td>0</td>\n",
       "      <td>contact</td>\n",
       "    </tr>\n",
       "    <tr>\n",
       "      <th>38</th>\n",
       "      <td>Springs RV Resort Contact Us</td>\n",
       "      <td>0</td>\n",
       "      <td>contact</td>\n",
       "    </tr>\n",
       "    <tr>\n",
       "      <th>39</th>\n",
       "      <td>Springs RV Resort Contact Us</td>\n",
       "      <td>0</td>\n",
       "      <td>contact</td>\n",
       "    </tr>\n",
       "    <tr>\n",
       "      <th>40</th>\n",
       "      <td>Springs RV Resort Contact Us</td>\n",
       "      <td>0</td>\n",
       "      <td>contact</td>\n",
       "    </tr>\n",
       "    <tr>\n",
       "      <th>41</th>\n",
       "      <td>Springs RV Resort Contact Us</td>\n",
       "      <td>0</td>\n",
       "      <td>contact</td>\n",
       "    </tr>\n",
       "    <tr>\n",
       "      <th>42</th>\n",
       "      <td>Springs RV Resort Contact Us</td>\n",
       "      <td>0</td>\n",
       "      <td>contact</td>\n",
       "    </tr>\n",
       "    <tr>\n",
       "      <th>43</th>\n",
       "      <td>Springs RV Resort Contact Us</td>\n",
       "      <td>0</td>\n",
       "      <td>contact</td>\n",
       "    </tr>\n",
       "    <tr>\n",
       "      <th>44</th>\n",
       "      <td>Springs RV Resort Contact Us</td>\n",
       "      <td>0</td>\n",
       "      <td>contact</td>\n",
       "    </tr>\n",
       "    <tr>\n",
       "      <th>45</th>\n",
       "      <td>Springs RV Resort Contact Us</td>\n",
       "      <td>0</td>\n",
       "      <td>contact</td>\n",
       "    </tr>\n",
       "    <tr>\n",
       "      <th>46</th>\n",
       "      <td>Springs RV Resort Contact Us</td>\n",
       "      <td>0</td>\n",
       "      <td>contact</td>\n",
       "    </tr>\n",
       "    <tr>\n",
       "      <th>47</th>\n",
       "      <td>Springs RV Resort Contact Us</td>\n",
       "      <td>0</td>\n",
       "      <td>contact</td>\n",
       "    </tr>\n",
       "    <tr>\n",
       "      <th>48</th>\n",
       "      <td>Springs RV Resort Contact Us</td>\n",
       "      <td>0</td>\n",
       "      <td>contact</td>\n",
       "    </tr>\n",
       "    <tr>\n",
       "      <th>49</th>\n",
       "      <td>Springs RV Resort Join the waitlist</td>\n",
       "      <td>1</td>\n",
       "      <td>waitlist</td>\n",
       "    </tr>\n",
       "  </tbody>\n",
       "</table>\n",
       "</div>"
      ],
      "text/plain": [
       "                                subject  label label_text\n",
       "0          Springs RV Resort Contact Us      0    contact\n",
       "1          Springs RV Resort Contact Us      0    contact\n",
       "2          Springs RV Resort Contact Us      0    contact\n",
       "3          Springs RV Resort Contact Us      0    contact\n",
       "4          Springs RV Resort Contact Us      0    contact\n",
       "5          Springs RV Resort Contact Us      0    contact\n",
       "6          Springs RV Resort Contact Us      0    contact\n",
       "7          Springs RV Resort Contact Us      0    contact\n",
       "8          Springs RV Resort Contact Us      0    contact\n",
       "9          Springs RV Resort Contact Us      0    contact\n",
       "10         Springs RV Resort Contact Us      0    contact\n",
       "11         Springs RV Resort Contact Us      0    contact\n",
       "12         Springs RV Resort Contact Us      0    contact\n",
       "13         Springs RV Resort Contact Us      0    contact\n",
       "14         Springs RV Resort Contact Us      0    contact\n",
       "15         Springs RV Resort Contact Us      0    contact\n",
       "16         Springs RV Resort Contact Us      0    contact\n",
       "17         Springs RV Resort Contact Us      0    contact\n",
       "18         Springs RV Resort Contact Us      0    contact\n",
       "19         Springs RV Resort Contact Us      0    contact\n",
       "20         Springs RV Resort Contact Us      0    contact\n",
       "21         Springs RV Resort Contact Us      0    contact\n",
       "22         Springs RV Resort Contact Us      0    contact\n",
       "23         Springs RV Resort Contact Us      0    contact\n",
       "24         Springs RV Resort Contact Us      0    contact\n",
       "25         Springs RV Resort Contact Us      0    contact\n",
       "26         Springs RV Resort Contact Us      0    contact\n",
       "27         Springs RV Resort Contact Us      0    contact\n",
       "28         Springs RV Resort Contact Us      0    contact\n",
       "29         Springs RV Resort Contact Us      0    contact\n",
       "30         Springs RV Resort Contact Us      0    contact\n",
       "31         Springs RV Resort Contact Us      0    contact\n",
       "32         Springs RV Resort Contact Us      0    contact\n",
       "33         Springs RV Resort Contact Us      0    contact\n",
       "34         Springs RV Resort Contact Us      0    contact\n",
       "35         Springs RV Resort Contact Us      0    contact\n",
       "36         Springs RV Resort Contact Us      0    contact\n",
       "37         Springs RV Resort Contact Us      0    contact\n",
       "38         Springs RV Resort Contact Us      0    contact\n",
       "39         Springs RV Resort Contact Us      0    contact\n",
       "40         Springs RV Resort Contact Us      0    contact\n",
       "41         Springs RV Resort Contact Us      0    contact\n",
       "42         Springs RV Resort Contact Us      0    contact\n",
       "43         Springs RV Resort Contact Us      0    contact\n",
       "44         Springs RV Resort Contact Us      0    contact\n",
       "45         Springs RV Resort Contact Us      0    contact\n",
       "46         Springs RV Resort Contact Us      0    contact\n",
       "47         Springs RV Resort Contact Us      0    contact\n",
       "48         Springs RV Resort Contact Us      0    contact\n",
       "49  Springs RV Resort Join the waitlist      1   waitlist"
      ]
     },
     "execution_count": 29,
     "metadata": {},
     "output_type": "execute_result"
    }
   ],
   "source": [
    "data = pd.concat([data, df], ignore_index=True)\n",
    "data.head(50)\n",
    "#data = data.drop(columns=['Unnamed: 0'])\n"
   ]
  },
  {
   "cell_type": "code",
   "execution_count": 26,
   "metadata": {},
   "outputs": [],
   "source": [
    "data.to_csv('/Users/blairjdaniel/AI-Assistant-Springs/data/google_colab/finals_all.csv')"
   ]
  }
 ],
 "metadata": {
  "kernelspec": {
   "display_name": "myenv",
   "language": "python",
   "name": "python3"
  },
  "language_info": {
   "codemirror_mode": {
    "name": "ipython",
    "version": 3
   },
   "file_extension": ".py",
   "mimetype": "text/x-python",
   "name": "python",
   "nbconvert_exporter": "python",
   "pygments_lexer": "ipython3",
   "version": "3.11.11"
  }
 },
 "nbformat": 4,
 "nbformat_minor": 2
}
