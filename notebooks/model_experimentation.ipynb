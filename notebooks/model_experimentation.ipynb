{
 "cells": [
  {
   "cell_type": "code",
   "execution_count": 2,
   "metadata": {},
   "outputs": [
    {
     "name": "stderr",
     "output_type": "stream",
     "text": [
      "2025-04-07 19:59:00.332098: I tensorflow/core/platform/cpu_feature_guard.cc:210] This TensorFlow binary is optimized to use available CPU instructions in performance-critical operations.\n",
      "To enable the following instructions: SSE4.1 SSE4.2 AVX AVX2 FMA, in other operations, rebuild TensorFlow with the appropriate compiler flags.\n"
     ]
    }
   ],
   "source": [
    "# Add the path to the 'my_llm' module\n",
    "import sys\n",
    "sys.path.append('../src')\n",
    "\n",
    "from my_llm.my_utils import load_all_jsonl_files\n",
    "from my_llm.my_utils import load_normalized_jsonl\n",
    "from my_llm.my_utils import load_txt_files_to_df\n",
    "from my_llm.my_utils import split_train_test\n",
    "from my_llm.my_utils import sample_and_print\n",
    "from my_llm.my_utils import save_df_to_jsonl\n",
    "\n",
    "\n",
    "from my_llm.gpt2_client import train_gpt2_model_from_df\n",
    "from my_llm.my_utils import clean_dataframe\n",
    "from my_llm.gpt_client import pre_trained_model\n",
    "from my_llm.llama_client import train_llama_model_from_df\n",
    "from my_llm.deepdistil_client import train_deep_model_from_df\n",
    "#from my_llm.flan_client import train_flan_model_from_df\n",
    "\n",
    "from datasets import Dataset\n",
    "from sklearn.model_selection import train_test_split\n",
    "import re\n",
    "import glob\n",
    "import os\n",
    "import pandas as pd\n",
    "from transformers import pipeline, Trainer\n",
    "\n"
   ]
  },
  {
   "cell_type": "code",
   "execution_count": 3,
   "metadata": {},
   "outputs": [
    {
     "name": "stdout",
     "output_type": "stream",
     "text": [
      "{'split': {'test_size': 0.2, 'validation_size': 0.1, 'random_state': 42}, 'pipeline': {'task': 'text-generation', 'model_name': 'EleutherAI/gpt-neo-1.3B'}, 'model': {'name': 'EleutherAI/gpt-neo-1.3B', 'training': {'epochs': 3, 'batch_size': 32, 'learning_rate': '2e-5', 'max_seq_length': 128}}, 'tokenizer': {'name': 'EleutherAI/gpt-neo-1.3B', 'do_lower_case': True, 'truncation': True, 'padding': 'max_length'}, 'huggingface': {'cache_dir': '~/.cache/huggingface', 'use_auth_token': False}, 'logging': {'level': 'INFO', 'log_file': 'logs/training.log'}}\n"
     ]
    }
   ],
   "source": [
    "# Load configuration in a Python file (e.g., main.py or a notebook cell)\n",
    "import yaml\n",
    "\n",
    "with open(\"/Users/blairjdaniel/AI-Assistant-Springs/config/model_config.yaml\", \"r\") as file:\n",
    "    config = yaml.safe_load(file)\n",
    "\n",
    "print(config)"
   ]
  },
  {
   "cell_type": "code",
   "execution_count": 4,
   "metadata": {},
   "outputs": [],
   "source": [
    "def load_model_config(yaml_path: str) -> dict:\n",
    "    with open(yaml_path, \"r\") as file:\n",
    "        return yaml.safe_load(file)"
   ]
  },
  {
   "cell_type": "code",
   "execution_count": 5,
   "metadata": {},
   "outputs": [],
   "source": [
    "# # Load the config\n",
    "# with open(\"/Users/blairjdaniel/AI-Assistant-Springs/config/model_config.yaml\", \"r\") as f:\n",
    "#     model_config = yaml.safe_load(f)\n",
    "\n",
    "# pipe = pipeline(\n",
    "#     model_config[\"pipeline\"][\"task\"],\n",
    "#     model=model_config[\"pipeline\"][\"model_name\"]\n",
    "#)"
   ]
  },
  {
   "cell_type": "code",
   "execution_count": 6,
   "metadata": {},
   "outputs": [],
   "source": [
    "# file_path = \"/Users/blairjdaniel/AI-Assistant-Springs/data/outputs/email_data/data_cleaned/data_email.json\"\n",
    "# normalized_data = load_normalized_jsonl(file_path)\n",
    "# print(\"Normalized DataFrame shape:\", normalized_data.shape)"
   ]
  },
  {
   "cell_type": "code",
   "execution_count": null,
   "metadata": {},
   "outputs": [],
   "source": [
    "file_path = \"\"\n",
    "data = load_normalized_jsonl(file_path)\n",
    "print(\"Normalized DataFrame shape:\", data.shape)"
   ]
  },
  {
   "cell_type": "code",
   "execution_count": null,
   "metadata": {},
   "outputs": [],
   "source": [
    "import pandas as pd\n",
    "from sklearn.model_selection import train_test_split\n",
    "\n",
    "\n",
    "\n",
    "# Split the data into train and test sets\n",
    "train_data, test_data = train_test_split(\n",
    "    data,\n",
    "    test_size=config['split']['test_size'],  # Use test size from config\n",
    "    random_state=config['split']['random_state']  # Use random state from config\n",
    ")\n",
    "\n",
    "# Further split the training data into train and validation sets\n",
    "train_data, val_data = train_test_split(\n",
    "    train_data,\n",
    "    test_size=config['split']['validation_size'],  # Use validation size from config\n",
    "    random_state=config['split']['random_state']\n",
    ")\n",
    "\n",
    "import os\n",
    "\n",
    "# Ensure the directory exists\n",
    "output_dir_path = '/Users/blairjdaniel/AI-Assistant-Springs/data/google_colab'\n",
    "os.makedirs(output_dir_path, exist_ok=True)\n",
    "\n",
    "import pandas as pd\n",
    "\n",
    "# Convert lists to pandas DataFrames\n",
    "train_data_df = pd.DataFrame(train_data)\n",
    "val_data_df = pd.DataFrame(val_data)\n",
    "test_data_df = pd.DataFrame(test_data)\n",
    "\n",
    "# Save the datasets to JSON files\n",
    "train_data_df.to_json(os.path.join(output_dir_path, 'attitude_train.json'), orient='records', lines=True)\n",
    "val_data_df.to_json(os.path.join(output_dir_path, 'attitude_val.json'), orient='records', lines=True)\n",
    "test_data_df.to_json(os.path.join(output_dir_path, 'attitude_test.json'), orient='records', lines=True)\n"
   ]
  },
  {
   "cell_type": "code",
   "execution_count": null,
   "metadata": {},
   "outputs": [],
   "source": [
    "import pandas as pd\n",
    "import torch\n",
    "# Load model directly\n",
    "from transformers import AutoTokenizer, AutoModelForQuestionAnswering, TrainingArguments\n",
    "\n",
    "tokenizer = AutoTokenizer.from_pretrained(\"distilbert/distilbert-base-cased-distilled-squad\")\n",
    "\n",
    "\n",
    "\n",
    "# Prepare dataset\n",
    "class CustomDataset(torch.utils.data.Dataset):\n",
    "    def __init__(self, encodings, labels):\n",
    "        self.encodings = encodings\n",
    "        self.labels = labels\n",
    "\n",
    "    def __len__(self):\n",
    "        return len(self.encodings[\"input_ids\"])\n",
    "\n",
    "    def __getitem__(self, idx):\n",
    "        return {\n",
    "            \"input_ids\": torch.tensor(self.encodings[\"input_ids\"][idx]),\n",
    "            \"attention_mask\": torch.tensor(self.encodings[\"attention_mask\"][idx]),\n",
    "            \"labels\": torch.tensor(self.labels[\"input_ids\"][idx]),\n",
    "        }\n",
    "\n",
    "train_dataset = CustomDataset(train_encodings, labels)\n",
    "\n",
    "model = AutoModelForQuestionAnswering.from_pretrained(\"distilbert/distilbert-base-cased-distilled-squad\")\n",
    "\n",
    "# Define training arguments\n",
    "training_args = TrainingArguments(\n",
    "    output_dir=\"/Users/blairjdaniel/AI-Assistant-Springs/models/flan-5\",\n",
    "    num_train_epochs=3,\n",
    "    per_device_train_batch_size=4,\n",
    "    save_steps=500,\n",
    "    save_total_limit=2,\n",
    "    evaluation_strategy=\"epoch\",\n",
    "    logging_dir=\"./logs\",\n",
    "    logging_steps=100,\n",
    ")\n",
    "\n",
    "# Train model\n",
    "# Tokenize validation data\n",
    "val_encodings = tokenizer(list(val_data[\"prompt\"]), truncation=True, padding=True, max_length=128)\n",
    "val_labels = tokenizer(list(val_data[\"completion\"]), truncation=True, padding=True, max_length=128)\n",
    "\n",
    "# Prepare validation dataset\n",
    "val_dataset = CustomDataset(val_encodings, val_labels)\n",
    "\n",
    "trainer = Trainer(\n",
    "    model=model,\n",
    "    args=training_args,\n",
    "    train_dataset=train_dataset,\n",
    "    eval_dataset=val_dataset,  # Add validation dataset here\n",
    ")\n",
    "trainer.train()"
   ]
  },
  {
   "cell_type": "code",
   "execution_count": 23,
   "metadata": {},
   "outputs": [],
   "source": [
    "# # Define output directory\n",
    "# output_dir = \"/Users/blairjdaniel/AI-Assistant-Springs/models/gpt2_finetuned_four\"\n",
    "\n",
    "# # Train the model\n",
    "# train_gpt2_model_from_df(train_data, val_data, output_dir, num_train_epochs=5)"
   ]
  },
  {
   "cell_type": "code",
   "execution_count": 24,
   "metadata": {},
   "outputs": [],
   "source": [
    "# # Define output directory\n",
    "# output_dir = \"/Users/blairjdaniel/AI-Assistant-Springs/models/llama\"\n",
    "\n",
    "# # Train the model\n",
    "# train_llama_model_from_df(train_data, val_data, output_dir, num_train_epochs=3)"
   ]
  },
  {
   "cell_type": "code",
   "execution_count": 25,
   "metadata": {},
   "outputs": [],
   "source": [
    "# # Define output directory\n",
    "# output_dir = \"/Users/blairjdaniel/AI-Assistant-Springs/models/deepseek_distil\"\n",
    "\n",
    "# # Train the model\n",
    "# train_deep_model_from_df(train_data, val_data, output_dir, num_train_epochs=3)"
   ]
  },
  {
   "cell_type": "code",
   "execution_count": 26,
   "metadata": {},
   "outputs": [],
   "source": [
    "# # Use a pipeline as a high-level helper\n",
    "# from transformers import pipeline\n",
    "\n",
    "# messages = [\n",
    "#     {\"role\": \"user\", \"content\": \"Who are you?\"},\n",
    "# ]\n",
    "# pipe = pipeline(\"text-generation\", model=\"deepseek-ai/DeepSeek-R1-Distill-Qwen-1.5B\")\n",
    "# pipe(messages)"
   ]
  },
  {
   "cell_type": "code",
   "execution_count": 27,
   "metadata": {},
   "outputs": [],
   "source": [
    "# # Load model directly\n",
    "# from transformers import AutoTokenizer, AutoModelForCausalLM\n",
    "\n",
    "# tokenizer = AutoTokenizer.from_pretrained(\"google/gemma-7b\")\n",
    "# model = AutoModelForCausalLM.from_pretrained(\"google/gemma-7b\")\n",
    "\n"
   ]
  },
  {
   "cell_type": "code",
   "execution_count": 28,
   "metadata": {},
   "outputs": [],
   "source": [
    "# prompt = \"Generate a response to: 'What is the capital of France?'\"\n",
    "# input_ids = tokenizer(prompt, return_tensors=\"pt\").input_ids\n",
    "# outputs = model.generate(input_ids, max_length=100)\n",
    "# print(tokenizer.decode(outputs[0], skip_special_tokens=True))"
   ]
  },
  {
   "cell_type": "code",
   "execution_count": 31,
   "metadata": {},
   "outputs": [
    {
     "data": {
      "application/vnd.jupyter.widget-view+json": {
       "model_id": "c0ec4a2b99cb42c0bd8da64951c5e285",
       "version_major": 2,
       "version_minor": 0
      },
      "text/plain": [
       "Loading checkpoint shards:   0%|          | 0/8 [00:00<?, ?it/s]"
      ]
     },
     "metadata": {},
     "output_type": "display_data"
    }
   ],
   "source": [
    "from transformers import AutoTokenizer, AutoModelForCausalLM\n",
    "model = AutoModelForCausalLM.from_pretrained(\"/Users/blairjdaniel/AI-Assistant-Springs/models/gemma-7\")\n",
    "tokenizer = AutoTokenizer.from_pretrained(\"/Users/blairjdaniel/AI-Assistant-Springs/models/gemma-7\")\n",
    "\n",
    "# prompt = \"Generate a response to: 'What is the capital of France?'\"\n",
    "# tokenizer.pad_token = tokenizer.eos_token\n",
    "# inputs = tokenizer(prompt, return_tensors=\"pt\", padding=True, truncation=True, max_length=1024)\n",
    "# outputs = model.generate(\n",
    "#     inputs[\"input_ids\"],\n",
    "#     attention_mask=inputs[\"attention_mask\"],\n",
    "#     max_length=1024,\n",
    "#     min_length=50,\n",
    "#     temperature=0.5,\n",
    "#     do_sample=True,\n",
    "#     pad_token_id=tokenizer.pad_token_id,\n",
    "#     repetition_penalty = 1.2\n",
    "# )\n",
    "# print(tokenizer.decode(outputs[0], skip_special_tokens=True))\n"
   ]
  },
  {
   "cell_type": "code",
   "execution_count": null,
   "metadata": {},
   "outputs": [],
   "source": [
    "prompt = \"Generate a response to: 'What is the capital of France?'\"\n",
    "tokenizer.pad_token = tokenizer.eos_token\n",
    "inputs = tokenizer(prompt, return_tensors=\"pt\", padding=True, truncation=True, max_length=1024)\n",
    "outputs = model.generate(\n",
    "    inputs[\"input_ids\"],\n",
    "    attention_mask=inputs[\"attention_mask\"],\n",
    "    max_length=1024,\n",
    "    min_length=50,\n",
    "    temperature=0.5,\n",
    "    do_sample=True,\n",
    "    pad_token_id=tokenizer.pad_token_id,\n",
    "    repetition_penalty = 1.2\n",
    ")\n",
    "print(tokenizer.decode(outputs[0], skip_special_tokens=True))\n"
   ]
  },
  {
   "cell_type": "code",
   "execution_count": null,
   "metadata": {},
   "outputs": [],
   "source": [
    "# # Save locally\n",
    "# local_dir = \"/Users/blairjdaniel/AI-Assistant-Springs/models/gemma-7\"\n",
    "\n",
    "# model.save_pretrained(local_dir)\n",
    "# tokenizer.save_pretrained(local_dir)\n",
    "\n",
    "# print(\"Model and processor saved locally at:\", local_dir)"
   ]
  },
  {
   "cell_type": "code",
   "execution_count": null,
   "metadata": {},
   "outputs": [],
   "source": [
    "# from transformers import AutoTokenizer, AutoModelForCausalLM\n",
    "\n",
    "# model_name = \"EleutherAI/gpt-neo-1.3B\"  # or \"EleutherAI/gpt-neo-1.3B\"\n",
    "# tokenizer = AutoTokenizer.from_pretrained(model_name)\n",
    "# model = AutoModelForCausalLM.from_pretrained(model_name)\n",
    "\n",
    "# prompt = \"Generate a response to: 'What is the capital of France?'\"\n",
    "# input_ids = tokenizer(prompt, return_tensors=\"pt\").input_ids\n",
    "# outputs = model.generate(input_ids, max_length=100)\n",
    "# print(tokenizer.decode(outputs[0], skip_special_tokens=True))"
   ]
  },
  {
   "cell_type": "code",
   "execution_count": null,
   "metadata": {},
   "outputs": [],
   "source": [
    "# # Save locally\n",
    "# local_dir = \"/Users/blairjdaniel/AI-Assistant-Springs/models/neo\"\n",
    "\n",
    "# model.save_pretrained(local_dir)\n",
    "# tokenizer.save_pretrained(local_dir)\n",
    "\n",
    "# print(\"Model and processor saved locally at:\", local_dir)"
   ]
  },
  {
   "cell_type": "code",
   "execution_count": null,
   "metadata": {},
   "outputs": [],
   "source": [
    "# df = pd.read_csv('/Users/blairjdaniel/AI-Assistant-Springs/data/google_colab/finals_all.csv')"
   ]
  },
  {
   "cell_type": "code",
   "execution_count": null,
   "metadata": {},
   "outputs": [],
   "source": [
    "import pandas as pd\n",
    "from datasets import Dataset, DatasetDict\n",
    "from evaluate import load\n",
    "from transformers import DistilBertTokenizerFast, DistilBertForSequenceClassification, Trainer, TrainingArguments\n",
    "import numpy as np\n",
    "\n",
    "# 3. Convert your DataFrame into a Hugging Face Dataset\n",
    "dataset = Dataset.from_pandas(df)\n",
    "\n",
    "# Optionally, split your dataset into train and test sets\n",
    "dataset = dataset.train_test_split(test_size=0.2, seed=42)\n",
    "datasets = DatasetDict({\n",
    "    \"train\": dataset[\"train\"],\n",
    "    \"test\": dataset[\"test\"]\n",
    "})\n",
    "\n",
    "# 4. Load DistilBERT tokenizer and preprocess the texts\n",
    "model_name = \"distilbert-base-uncased\"\n",
    "tokenizer = DistilBertTokenizerFast.from_pretrained(model_name)\n",
    "\n",
    "def tokenize_function(example):\n",
    "    return tokenizer(example[\"subject\"], padding=\"max_length\", truncation=True, max_length=64)\n",
    "\n",
    "tokenized_datasets = datasets.map(tokenize_function, batched=True)\n",
    "\n",
    "# Set the format for PyTorch\n",
    "tokenized_datasets = tokenized_datasets.remove_columns([\"subject\", \"label_text\"])\n",
    "tokenized_datasets.set_format(\"torch\")\n",
    "\n",
    "# 5. Load the DistilBERT model for sequence classification with 4 labels\n",
    "model = DistilBertForSequenceClassification.from_pretrained(model_name, num_labels=4)\n",
    "\n",
    "accuracy_metric = load(\"accuracy\")\n",
    "accuracy_metric = load(\"accuracy\")\n",
    "\n",
    "def compute_metrics(eval_pred):\n",
    "    logits, labels = eval_pred\n",
    "    predictions = np.argmax(logits, axis=-1)\n",
    "    return accuracy_metric.compute(predictions=predictions, references=labels)\n",
    "\n",
    "# 7. Set up training arguments\n",
    "training_args = TrainingArguments(\n",
    "    output_dir=\"./results\",\n",
    "    evaluation_strategy=\"epoch\",\n",
    "    learning_rate=2e-5,\n",
    "    per_device_train_batch_size=8,\n",
    "    per_device_eval_batch_size=8,\n",
    "    num_train_epochs=3,\n",
    "    weight_decay=0.01,\n",
    ")\n",
    "\n",
    "# 8. Initialize the Trainer\n",
    "trainer = Trainer(\n",
    "    model=model,\n",
    "    args=training_args,\n",
    "    train_dataset=tokenized_datasets[\"train\"],\n",
    "    eval_dataset=tokenized_datasets[\"test\"],\n",
    "    compute_metrics=compute_metrics,\n",
    ")\n",
    "\n",
    "# 9. Train the model\n",
    "trainer.train()\n",
    "\n",
    "# Optionally: evaluate on test set\n",
    "evaluation_result = trainer.evaluate()\n",
    "print(\"Evaluation results:\", evaluation_result)\n",
    "\n",
    "# Save the model if needed:\n",
    "model.save_pretrained(\"/Users/blairjdaniel/AI-Assistant-Springs/models/distilbert-email-classifier\")\n",
    "tokenizer.save_pretrained(\"/Users/blairjdaniel/AI-Assistant-Springs/models/distilbert-email-classifier\")\n"
   ]
  },
  {
   "cell_type": "code",
   "execution_count": null,
   "metadata": {},
   "outputs": [
    {
     "data": {
      "application/vnd.jupyter.widget-view+json": {
       "model_id": "97e9048233304a488c03ba9e09db9f9c",
       "version_major": 2,
       "version_minor": 0
      },
      "text/plain": [
       "tokenizer_config.json:   0%|          | 0.00/26.0 [00:00<?, ?B/s]"
      ]
     },
     "metadata": {},
     "output_type": "display_data"
    },
    {
     "data": {
      "application/vnd.jupyter.widget-view+json": {
       "model_id": "58fc973feff74a7c875bcc8c356e9aa4",
       "version_major": 2,
       "version_minor": 0
      },
      "text/plain": [
       "config.json:   0%|          | 0.00/666 [00:00<?, ?B/s]"
      ]
     },
     "metadata": {},
     "output_type": "display_data"
    },
    {
     "data": {
      "application/vnd.jupyter.widget-view+json": {
       "model_id": "dd8df14e414e4690b6eef9bd31d28271",
       "version_major": 2,
       "version_minor": 0
      },
      "text/plain": [
       "vocab.json:   0%|          | 0.00/1.04M [00:00<?, ?B/s]"
      ]
     },
     "metadata": {},
     "output_type": "display_data"
    },
    {
     "data": {
      "application/vnd.jupyter.widget-view+json": {
       "model_id": "a2b6ba87c36942b7966a6de0097138a5",
       "version_major": 2,
       "version_minor": 0
      },
      "text/plain": [
       "merges.txt:   0%|          | 0.00/456k [00:00<?, ?B/s]"
      ]
     },
     "metadata": {},
     "output_type": "display_data"
    },
    {
     "data": {
      "application/vnd.jupyter.widget-view+json": {
       "model_id": "649e9cec4eb14e48900b50141f0a57ce",
       "version_major": 2,
       "version_minor": 0
      },
      "text/plain": [
       "tokenizer.json:   0%|          | 0.00/1.36M [00:00<?, ?B/s]"
      ]
     },
     "metadata": {},
     "output_type": "display_data"
    },
    {
     "data": {
      "application/vnd.jupyter.widget-view+json": {
       "model_id": "2af6291fcada4d4eafb37ef8feb4ffe0",
       "version_major": 2,
       "version_minor": 0
      },
      "text/plain": [
       "model.safetensors:   0%|          | 0.00/3.25G [00:00<?, ?B/s]"
      ]
     },
     "metadata": {},
     "output_type": "display_data"
    },
    {
     "data": {
      "application/vnd.jupyter.widget-view+json": {
       "model_id": "f2f2a1f960f54c2c9c8bd5ada5b133db",
       "version_major": 2,
       "version_minor": 0
      },
      "text/plain": [
       "generation_config.json:   0%|          | 0.00/124 [00:00<?, ?B/s]"
      ]
     },
     "metadata": {},
     "output_type": "display_data"
    },
    {
     "name": "stdout",
     "output_type": "stream",
     "text": [
      "Model and processor saved locally at: /Users/blairjdaniel/AI-Assistant-Springs/models/gpt\n"
     ]
    }
   ],
   "source": [
    "# # Load model directly\n",
    "# from transformers import AutoTokenizer, AutoModelForCausalLM\n",
    "\n",
    "# tokenizer = AutoTokenizer.from_pretrained(\"openai-community/gpt2-large\")\n",
    "# model = AutoModelForCausalLM.from_pretrained(\"openai-community/gpt2-large\")\n",
    "\n",
    "# # Save locally\n",
    "# local_dir = \"/Users/blairjdaniel/AI-Assistant-Springs/models/gpt\"\n",
    "\n",
    "# model.save_pretrained(local_dir)\n",
    "# tokenizer.save_pretrained(local_dir)\n",
    "\n",
    "# print(\"Model and processor saved locally at:\", local_dir)"
   ]
  }
 ],
 "metadata": {
  "kernelspec": {
   "display_name": "myenv",
   "language": "python",
   "name": "python3"
  },
  "language_info": {
   "codemirror_mode": {
    "name": "ipython",
    "version": 3
   },
   "file_extension": ".py",
   "mimetype": "text/x-python",
   "name": "python",
   "nbconvert_exporter": "python",
   "pygments_lexer": "ipython3",
   "version": "3.11.11"
  }
 },
 "nbformat": 4,
 "nbformat_minor": 2
}
